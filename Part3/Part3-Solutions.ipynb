{
 "cells": [
  {
   "cell_type": "code",
   "execution_count": 1,
   "metadata": {
    "collapsed": false
   },
   "outputs": [],
   "source": [
    "%matplotlib inline\n",
    "import matplotlib.pyplot as plt\n",
    "import numpy as np\n",
    "import seaborn as sns\n",
    "\n",
    "import openmc"
   ]
  },
  {
   "cell_type": "markdown",
   "metadata": {},
   "source": [
    "## StatePoint / Summary Files"
   ]
  },
  {
   "cell_type": "markdown",
   "metadata": {},
   "source": [
    "#### Load the HDF5 Files"
   ]
  },
  {
   "cell_type": "markdown",
   "metadata": {},
   "source": [
    "Let's begin by loading the statepoint HDF5 file for batch 100 into the Python API's `openmc.StatePoint` class:"
   ]
  },
  {
   "cell_type": "code",
   "execution_count": 2,
   "metadata": {
    "collapsed": true
   },
   "outputs": [],
   "source": [
    "sp = openmc.StatePoint('statepoint.100.h5')"
   ]
  },
  {
   "cell_type": "markdown",
   "metadata": {},
   "source": [
    "We will do the same for the summary HDF5 file by loading into the `openmc.Summary` class:"
   ]
  },
  {
   "cell_type": "code",
   "execution_count": 3,
   "metadata": {
    "collapsed": true
   },
   "outputs": [],
   "source": [
    "su = openmc.Summary('summary.h5')"
   ]
  },
  {
   "cell_type": "markdown",
   "metadata": {},
   "source": [
    "We can \"link\" the geometric and materials metadata in the summary to the tallies in the statepoint file with `StatePoint.link_with_summary(...)`:"
   ]
  },
  {
   "cell_type": "code",
   "execution_count": 4,
   "metadata": {
    "collapsed": false
   },
   "outputs": [],
   "source": [
    "sp.link_with_summary(su)"
   ]
  },
  {
   "cell_type": "markdown",
   "metadata": {},
   "source": [
    "#### Inspect Simulation Metadata in `StatePoint`"
   ]
  },
  {
   "cell_type": "markdown",
   "metadata": {},
   "source": [
    "First, we can inspect the date and time at which the simulation was run:"
   ]
  },
  {
   "cell_type": "code",
   "execution_count": 5,
   "metadata": {
    "collapsed": false
   },
   "outputs": [
    {
     "data": {
      "text/plain": [
       "'2016-04-28 11:11:37'"
      ]
     },
     "execution_count": 5,
     "metadata": {},
     "output_type": "execute_result"
    }
   ],
   "source": [
    "sp.date_and_time"
   ]
  },
  {
   "cell_type": "markdown",
   "metadata": {},
   "source": [
    "Similarly, we can inspect the current batch for our `StatePoint`:"
   ]
  },
  {
   "cell_type": "code",
   "execution_count": 6,
   "metadata": {
    "collapsed": false
   },
   "outputs": [
    {
     "data": {
      "text/plain": [
       "100"
      ]
     },
     "execution_count": 6,
     "metadata": {},
     "output_type": "execute_result"
    }
   ],
   "source": [
    "sp.current_batch"
   ]
  },
  {
   "cell_type": "markdown",
   "metadata": {},
   "source": [
    "Likewise, we can find a number of other simulation parameters in the `StatePoint`:\n",
    "    \n",
    "* `n_batches` - # of batches\n",
    "* `n_inactive` - # of inactive batches\n",
    "* `n_particles` - # of particles per batch\n",
    "* `n_realizations` - # batches tallied to"
   ]
  },
  {
   "cell_type": "code",
   "execution_count": 7,
   "metadata": {
    "collapsed": false
   },
   "outputs": [
    {
     "name": "stdout",
     "output_type": "stream",
     "text": [
      "10 100 100000 90\n"
     ]
    }
   ],
   "source": [
    "print(sp.n_inactive, sp.n_batches, sp.n_particles, sp.n_realizations)"
   ]
  },
  {
   "cell_type": "markdown",
   "metadata": {},
   "source": [
    "OpenMC computes a number of estimators for the multiplication factor $k_{eff}$. Each of these estimators is stored as an attribute in the `StatePoint` class. We can report an ensemble-averaged estimator through the `StatePoint.k_combined` property with an `ndarray` storing the mean and uncertainty."
   ]
  },
  {
   "cell_type": "code",
   "execution_count": 8,
   "metadata": {
    "collapsed": false
   },
   "outputs": [
    {
     "data": {
      "text/plain": [
       "array([  1.02504491e+00,   2.71866786e-04])"
      ]
     },
     "execution_count": 8,
     "metadata": {},
     "output_type": "execute_result"
    }
   ],
   "source": [
    "sp.k_combined"
   ]
  },
  {
   "cell_type": "markdown",
   "metadata": {
    "variables": {
     "np.round(sp.k_combined[0],5)": "1.02504",
     "np.round(sp.k_combined[1],5)": "0.00027"
    }
   },
   "source": [
    "Here we can see that our estimate $k_{eff}$ = {{np.round(sp.k_combined[0],5)}} $\\pm$ {{np.round(sp.k_combined[1],5)}}"
   ]
  },
  {
   "cell_type": "markdown",
   "metadata": {},
   "source": [
    "#### Extract Model Geometry and Materials from `Summary`"
   ]
  },
  {
   "cell_type": "markdown",
   "metadata": {
    "collapsed": true
   },
   "source": [
    "We next turn to consider the metadata stored in the `Summary` class. This class is used to store data that is *invariant* between batches - *e.g.*, the simulation geometric and materials models - rather than statistical estimators that vary by batch which are stored in the `StatePoint` files. First, we can find the entire OpenMC model built as a `Geometry` object in the `Summary.openmc_geometry` property:"
   ]
  },
  {
   "cell_type": "code",
   "execution_count": 9,
   "metadata": {
    "collapsed": false
   },
   "outputs": [
    {
     "data": {
      "text/plain": [
       "<openmc.geometry.Geometry at 0x7ffb52ec8400>"
      ]
     },
     "execution_count": 9,
     "metadata": {},
     "output_type": "execute_result"
    }
   ],
   "source": [
    "su.openmc_geometry"
   ]
  },
  {
   "cell_type": "markdown",
   "metadata": {},
   "source": [
    "In addition, the `Summary` includes properties to quickly and easily access the `Materials`, `Cells`, `Universes`, etc. directly. The following are included as properties in the `Summary`:\n",
    "\n",
    "* `materials` - `dict` of `Material` objects indexed by ID\n",
    "* `surfaces` - `dict` of `Surface` objects indexed by ID\n",
    "* `cells` - `dict` of `Cell` objects indexed by ID\n",
    "* `universes` - `dict` of `Universe` objects indexed by ID\n",
    "* `lattices` - `dict` of `Lattice` objects indexed by ID\n",
    "\n",
    "For example, let's inspect the `materials`:"
   ]
  },
  {
   "cell_type": "code",
   "execution_count": 10,
   "metadata": {
    "collapsed": false
   },
   "outputs": [
    {
     "data": {
      "text/plain": [
       "{1: Material\n",
       " \tID             =\t10000\n",
       " \tName           =\t1.6% fuel\n",
       " \tDensity        =\t0.06901765345640536 [atom/b-cm]\n",
       " \tS(a,b) Tables  \n",
       " \tNuclides       \n",
       " \tU-235          =\t0.000375087734912743 [ao]\n",
       " \tU-238          =\t0.022628483061090606 [ao]\n",
       " \tO-16           =\t0.046014082660402016 [ao]\n",
       " \tElements       , 2: Material\n",
       " \tID             =\t10001\n",
       " \tName           =\tborated water\n",
       " \tDensity        =\t0.07427671201342415 [atom/b-cm]\n",
       " \tS(a,b) Tables  \n",
       " \tNuclides       \n",
       " \tH-1            =\t0.049510130303184366 [ao]\n",
       " \tO-16           =\t0.024758568911546514 [ao]\n",
       " \tB-10           =\t8.012798693263813e-06 [ao]\n",
       " \tElements       , 3: Material\n",
       " \tID             =\t10002\n",
       " \tName           =\tzircaloy\n",
       " \tDensity        =\t0.043874251943143476 [atom/b-cm]\n",
       " \tS(a,b) Tables  \n",
       " \tNuclides       \n",
       " \tZr-90          =\t0.043874251943143476 [ao]\n",
       " \tElements       }"
      ]
     },
     "execution_count": 10,
     "metadata": {},
     "output_type": "execute_result"
    }
   ],
   "source": [
    "su.materials"
   ]
  },
  {
   "cell_type": "markdown",
   "metadata": {
    "collapsed": true
   },
   "source": [
    "For relatively large models, the number of `Materials`, `Cells`, `Universes`, etc. may be unwieldy to digest in such a format. However, if we give our objects names (or labels) then we can easily retrieve them directly from the `Geometry`. For example, let's retrieve the `Material` named `\"Fuel\"`:"
   ]
  },
  {
   "cell_type": "code",
   "execution_count": 11,
   "metadata": {
    "collapsed": false
   },
   "outputs": [
    {
     "name": "stdout",
     "output_type": "stream",
     "text": [
      "[Material\n",
      "\tID             =\t10000\n",
      "\tName           =\t1.6% fuel\n",
      "\tDensity        =\t0.06901765345640536 [atom/b-cm]\n",
      "\tS(a,b) Tables  \n",
      "\tNuclides       \n",
      "\tU-235          =\t0.000375087734912743 [ao]\n",
      "\tU-238          =\t0.022628483061090606 [ao]\n",
      "\tO-16           =\t0.046014082660402016 [ao]\n",
      "\tElements       \n",
      "]\n"
     ]
    }
   ],
   "source": [
    "fuel = su.openmc_geometry.get_materials_by_name('Fuel')\n",
    "print(fuel)"
   ]
  },
  {
   "cell_type": "markdown",
   "metadata": {},
   "source": [
    "As we can see, the `get_materials_by_name(...)` method will return a `list` of all `Material` objects with the name `\"Fuel\"` - in  this case, there is only one such `Material`. Let's now retrieve the `Material` named `\"Moderator\"`, as well as the `Cell` objects named `\"Fuel\"` and `\"Moderator\"`:"
   ]
  },
  {
   "cell_type": "code",
   "execution_count": 12,
   "metadata": {
    "collapsed": false
   },
   "outputs": [],
   "source": [
    "# Extract moderator Material\n",
    "moderator = su.openmc_geometry.get_materials_by_name('Moderator')\n",
    "\n",
    "# Extract fuel and moderator Cells\n",
    "fuel_cell = su.openmc_geometry.get_cells_by_name('Fuel')\n",
    "moderator_cell = su.openmc_geometry.get_cells_by_name('Moderator')"
   ]
  },
  {
   "cell_type": "markdown",
   "metadata": {},
   "source": [
    "We will return to use these `Material` and `Cell` objects later when we process some of our `Tallies`."
   ]
  },
  {
   "cell_type": "markdown",
   "metadata": {},
   "source": [
    "#### Access Fission Source Sites"
   ]
  },
  {
   "cell_type": "markdown",
   "metadata": {
    "collapsed": true
   },
   "source": [
    "The `StatePoint` contains all of the fission source sites for the corresponding batch in the `source` NumPy array. This array includes the following information about each source:\n",
    "\n",
    "* Energy (`\"E\"`)\n",
    "* Location (`\"xyz\"`)\n",
    "* Direction (`\"uvw\"`)\n",
    "\n",
    "Let's inspect the energies (in MeV) indexed by key `\"E\"`:"
   ]
  },
  {
   "cell_type": "code",
   "execution_count": 13,
   "metadata": {
    "collapsed": false
   },
   "outputs": [
    {
     "data": {
      "text/plain": [
       "array([ 2.43590934,  2.18546231,  2.94830197, ...,  1.79776828,\n",
       "        1.64140679,  2.23196842])"
      ]
     },
     "execution_count": 13,
     "metadata": {},
     "output_type": "execute_result"
    }
   ],
   "source": [
    "sp.source['E']"
   ]
  },
  {
   "cell_type": "markdown",
   "metadata": {},
   "source": [
    "To make things more interesting, we can use NumPy and Matplotlib to plot a histogram of those energies in the `source` array."
   ]
  },
  {
   "cell_type": "code",
   "execution_count": 14,
   "metadata": {
    "collapsed": false
   },
   "outputs": [
    {
     "data": {
      "text/plain": [
       "<matplotlib.text.Text at 0x7ffb21a06908>"
      ]
     },
     "execution_count": 14,
     "metadata": {},
     "output_type": "execute_result"
    },
    {
     "data": {
      "image/png": "[encoded data removed]",
      "text/plain": [
       "<matplotlib.figure.Figure at 0x7ffb216da2e8>"
      ]
     },
     "metadata": {},
     "output_type": "display_data"
    }
   ],
   "source": [
    "# Create log-spaced energy bins from 1 keV to 100 MeV\n",
    "energy_bins = np.logspace(np.log10(1e-3), np.log10(1e2), 100)\n",
    "\n",
    "# Calculate pdf for source energies\n",
    "probability, bin_edges = np.histogram(sp.source['E'], energy_bins, density=True)\n",
    "\n",
    "# Plot source energy PDF\n",
    "plt.semilogx(energy_bins[:-1], probability*np.diff(energy_bins), linestyle='steps')\n",
    "plt.xlabel('Energy (MeV)')\n",
    "plt.ylabel('Probability/MeV')"
   ]
  },
  {
   "cell_type": "markdown",
   "metadata": {},
   "source": [
    "## Tally Data Extraction"
   ]
  },
  {
   "cell_type": "markdown",
   "metadata": {},
   "source": [
    "#### Extracting Tallies from a `StatePoint`"
   ]
  },
  {
   "cell_type": "markdown",
   "metadata": {},
   "source": [
    "Our `StatePoint` also has a number of different `Tally` objects stored in the `StatePoint.tallies` as a `dict`. We can inspect one the `Tally` objects by directly indexing into `tallies` with the appropriate ID:"
   ]
  },
  {
   "cell_type": "code",
   "execution_count": 15,
   "metadata": {
    "collapsed": false
   },
   "outputs": [
    {
     "name": "stdout",
     "output_type": "stream",
     "text": [
      "Tally\n",
      "\tID             =\t10000\n",
      "\tName           =\tmesh fission\n",
      "\tFilters        =\t\n",
      "                \t\tmesh\t[10000]\n",
      "\tNuclides       =\tU-235 U-238 \n",
      "\tScores         =\t['fission']\n",
      "\tEstimator      =\ttracklength\n",
      "\n"
     ]
    }
   ],
   "source": [
    "print(sp.tallies[10000])"
   ]
  },
  {
   "cell_type": "markdown",
   "metadata": {},
   "source": [
    "As we can see, the `Tally` with ID=10000 is called `\"mesh fission\"` and has a `\"mesh\"` `Filter`, a `\"fission\"` score and two `\"U-235\"` and `\"U-238\"` nuclide bins. In addition, the `Tally` was computed with a `\"tracklength\"` estimator.\n",
    "\n",
    "Although it may be convenient to directly index into the `tallies` collection for problems with only a handful of `Tally` objects, this is not a robust or scalable approach for problems with many `Tally` objects. Instead, we recommend the use of the `StatePoint.get_tally(...)` method which allows one to retrieve a `Tally` object with an arbitrary subset or combination of the following information:\n",
    "\n",
    "* integer ID\n",
    "* string name\n",
    "* one or more string scores\n",
    "* one or more `Filter` objects\n",
    "* one or more string nuclides\n",
    "\n",
    "As an example, let's retrieve the `Tally` using its string name:"
   ]
  },
  {
   "cell_type": "code",
   "execution_count": 16,
   "metadata": {
    "collapsed": false
   },
   "outputs": [],
   "source": [
    "mesh_fiss = sp.get_tally(name='mesh fission')"
   ]
  },
  {
   "cell_type": "markdown",
   "metadata": {},
   "source": [
    "As we can see, this has extracted the `Tally` with the name `\"mesh_fiss\"` into a new Python variable called `mesh_fiss`. Let's proceed to extract all of the `Tally` objects into their own respective variables."
   ]
  },
  {
   "cell_type": "code",
   "execution_count": 17,
   "metadata": {
    "collapsed": false
   },
   "outputs": [],
   "source": [
    "flux = sp.get_tally(name='flux')\n",
    "distribcell = sp.get_tally(name='distribcell')\n",
    "therm_abs = sp.get_tally(name='thermal absorption')\n",
    "tot_abs = sp.get_tally(name='total absorption')"
   ]
  },
  {
   "cell_type": "markdown",
   "metadata": {},
   "source": [
    "#### Extracting Data from a `Tally`"
   ]
  },
  {
   "cell_type": "markdown",
   "metadata": {},
   "source": [
    "The obvious first thing you may wish to do with a `Tally` object is to inspect the batch mean values in each bin. To start, let's inspect the type of the `Tally.mean` property to determine that it is a NumPy array:"
   ]
  },
  {
   "cell_type": "code",
   "execution_count": 18,
   "metadata": {
    "collapsed": false
   },
   "outputs": [
    {
     "name": "stdout",
     "output_type": "stream",
     "text": [
      "<class 'numpy.ndarray'>\n"
     ]
    }
   ],
   "source": [
    "print(type(mesh_fiss.mean))"
   ]
  },
  {
   "cell_type": "markdown",
   "metadata": {},
   "source": [
    "Next, let's use the `ndarray.shape` attribute to determine the number of dimensions are contained within our `mean` NumPy array:"
   ]
  },
  {
   "cell_type": "code",
   "execution_count": 19,
   "metadata": {
    "collapsed": false
   },
   "outputs": [
    {
     "name": "stdout",
     "output_type": "stream",
     "text": [
      "(289, 2, 1)\n"
     ]
    }
   ],
   "source": [
    "print(mesh_fiss.mean.shape)"
   ]
  },
  {
   "cell_type": "markdown",
   "metadata": {},
   "source": [
    "This result informs us that `mesh_fiss` has a 3D mean array with dimensions 289 $\\times$ 2 $\\times$ 1. In fact all `Tally` objects in OpenMC store a `mean` array using three dimensions corresponding to the following:\n",
    "\n",
    "* `Filter` bins\n",
    "* Nuclide bins\n",
    "* Score bins\n",
    "\n",
    "In our case, the first dimension with length 289 corresponds to 289 `Mesh` `Filter` bins for the 17 $\\times$ 17 PWR assembly. The second dimension of length 2 corresponds to the `\"U-235\"` and `\"U-238\"` nuclide bins while the final dimension corresponds to our single `\"fission\"` score bin.\n",
    "\n",
    "Now that we understand how data is stored and indexed, let's inspect the data for the first five `Mesh` `Filter` bins:"
   ]
  },
  {
   "cell_type": "code",
   "execution_count": 20,
   "metadata": {
    "collapsed": false
   },
   "outputs": [
    {
     "name": "stdout",
     "output_type": "stream",
     "text": [
      "[[[ 0.00137513]\n",
      "  [ 0.00010392]]\n",
      "\n",
      " [[ 0.00138107]\n",
      "  [ 0.00010412]]\n",
      "\n",
      " [[ 0.00139326]\n",
      "  [ 0.00010331]]\n",
      "\n",
      " [[ 0.00140854]\n",
      "  [ 0.00010364]]\n",
      "\n",
      " [[ 0.00141468]\n",
      "  [ 0.00010343]]]\n"
     ]
    }
   ],
   "source": [
    "print(mesh_fiss.mean[:5,:,:])"
   ]
  },
  {
   "cell_type": "markdown",
   "metadata": {},
   "source": [
    "We can similarly inspect the standard deviation for our tally data which is stored in the `std_dev` array:"
   ]
  },
  {
   "cell_type": "code",
   "execution_count": 21,
   "metadata": {
    "collapsed": false
   },
   "outputs": [
    {
     "name": "stdout",
     "output_type": "stream",
     "text": [
      "[[[  6.37357413e-06]\n",
      "  [  4.64062717e-07]]\n",
      "\n",
      " [[  6.34196163e-06]\n",
      "  [  4.79317285e-07]]\n",
      "\n",
      " [[  6.00758458e-06]\n",
      "  [  3.84259335e-07]]\n",
      "\n",
      " [[  5.79400110e-06]\n",
      "  [  4.18209244e-07]]\n",
      "\n",
      " [[  6.87684034e-06]\n",
      "  [  4.42451005e-07]]]\n"
     ]
    }
   ],
   "source": [
    "print(mesh_fiss.std_dev[:5,:,:])"
   ]
  },
  {
   "cell_type": "markdown",
   "metadata": {},
   "source": [
    "Of course since the data is stored in NumPy arrays, we can easily compute the percent relative error of each tally value simply by dividing the `std_dev` array by the `mean` array:"
   ]
  },
  {
   "cell_type": "code",
   "execution_count": 22,
   "metadata": {
    "collapsed": false
   },
   "outputs": [
    {
     "name": "stdout",
     "output_type": "stream",
     "text": [
      "[[[ 0.46348767]\n",
      "  [ 0.44654727]]\n",
      "\n",
      " [[ 0.45920763]\n",
      "  [ 0.46035125]]\n",
      "\n",
      " [[ 0.43118966]\n",
      "  [ 0.37196268]]\n",
      "\n",
      " [[ 0.41134734]\n",
      "  [ 0.40352719]]\n",
      "\n",
      " [[ 0.48610613]\n",
      "  [ 0.42776103]]]\n"
     ]
    }
   ],
   "source": [
    "rel_err = mesh_fiss.std_dev / mesh_fiss.mean * 100.\n",
    "print(rel_err[:5,:,:])"
   ]
  },
  {
   "cell_type": "markdown",
   "metadata": {},
   "source": [
    "Although we can directly access the `mean` and `std_dev` arrays in our `Tally` object, this is not a scalable or flexible approach for sophisticated simulation workflows. In many situations you may wish to extract a subset of the data from a `Tally` for some analysis. The `Tally.get_values(...)` method is an attractive alternative for these cases. \n",
    "\n",
    "Let's consider the extraction of data from our `mesh_fiss` `Tally` specifically for `\"U-235\"` into a new NumPy array variable called `u235_fission`:"
   ]
  },
  {
   "cell_type": "code",
   "execution_count": 23,
   "metadata": {
    "collapsed": false
   },
   "outputs": [
    {
     "name": "stdout",
     "output_type": "stream",
     "text": [
      "(289, 1, 1)\n"
     ]
    }
   ],
   "source": [
    "u235_fission = mesh_fiss.get_values(nuclides=['U-235'])\n",
    "print(u235_fission.shape)"
   ]
  },
  {
   "cell_type": "markdown",
   "metadata": {},
   "source": [
    "As we can see, the `u235_fission` array has dimensions 289 $\\times$ 1 $\\times$ 1 as expected. "
   ]
  },
  {
   "cell_type": "markdown",
   "metadata": {},
   "source": [
    "## Plotting `Tally` Data"
   ]
  },
  {
   "cell_type": "markdown",
   "metadata": {},
   "source": [
    "OpenMC's tight coupling with Python permits us to generate nice plots of our tally data directly from within the Jupyter Notebook."
   ]
  },
  {
   "cell_type": "markdown",
   "metadata": {},
   "source": [
    "#### Plotting Mesh Tallies"
   ]
  },
  {
   "cell_type": "markdown",
   "metadata": {},
   "source": [
    "For our first example, we will use Matplotlib to plot the fission rate mesh tally in the `mesh_fiss` `Tally`. First, let's extract the `\"U-235\"` fission rate mean and relative error arrays into their own respective variables:"
   ]
  },
  {
   "cell_type": "code",
   "execution_count": 24,
   "metadata": {
    "collapsed": true
   },
   "outputs": [],
   "source": [
    "mean = mesh_fiss.get_values(nuclides=['U-235'], value='mean')\n",
    "rel_err = mesh_fiss.get_values(nuclides=['U-235'], value='rel_err')"
   ]
  },
  {
   "cell_type": "markdown",
   "metadata": {},
   "source": [
    "We will use Matplotlib to plot 2D heatmaps of arrays. In order to do so, we must first reshape our arrays to be 2D corresponding to the 17 $\\times$ 17 `Mesh`:"
   ]
  },
  {
   "cell_type": "code",
   "execution_count": 25,
   "metadata": {
    "collapsed": false
   },
   "outputs": [],
   "source": [
    "# Reshape the arrays\n",
    "mean.shape = (17, 17)\n",
    "rel_err.shape = (17, 17)"
   ]
  },
  {
   "cell_type": "markdown",
   "metadata": {},
   "source": [
    "Now we can use Matplotlib's `imshow` method to display our data side-by-side:"
   ]
  },
  {
   "cell_type": "code",
   "execution_count": 26,
   "metadata": {
    "collapsed": false
   },
   "outputs": [
    {
     "data": {
      "image/png": "[encoded data removed]",
      "text/plain": [
       "<matplotlib.figure.Figure at 0x7ffb21860a58>"
      ]
     },
     "metadata": {},
     "output_type": "display_data"
    }
   ],
   "source": [
    "# Plot OpenMC's fission rates in the left subplot\n",
    "fig = plt.subplot(121)\n",
    "plt.imshow(mean, interpolation='none', cmap='jet')\n",
    "plt.title('Mean')\n",
    "plt.grid(False)\n",
    "\n",
    "# Plot OpenMOC's fission rates in the right subplot\n",
    "fig2 = plt.subplot(122)\n",
    "plt.imshow(rel_err, interpolation='none', cmap='jet')\n",
    "plt.title('Rel. Err.')\n",
    "plt.grid(False)"
   ]
  },
  {
   "cell_type": "markdown",
   "metadata": {},
   "source": [
    "This mesh tally of fission rates particularly informative since the dark blue guide tube do not have any fission and skew the color bar. We can rectify this issue with a little trick to Matplotlib's color scheme as follows."
   ]
  },
  {
   "cell_type": "code",
   "execution_count": 27,
   "metadata": {
    "collapsed": false
   },
   "outputs": [
    {
     "data": {
      "image/png": "[encoded data removed]",
      "text/plain": [
       "<matplotlib.figure.Figure at 0x7ffb1b3da630>"
      ]
     },
     "metadata": {},
     "output_type": "display_data"
    }
   ],
   "source": [
    "# Assign a NaN to zero fission rates in guide tubes\n",
    "# Matplotlib will ignore \"bad\" values in the colorbar\n",
    "mean[mean == 0.] = np.nan\n",
    "cmap = plt.get_cmap('jet')\n",
    "cmap.set_bad(alpha=0.)\n",
    "\n",
    "# Plot fission rates in the left subplot\n",
    "fig = plt.subplot(121)\n",
    "plt.imshow(mean, interpolation='none', cmap=cmap)\n",
    "plt.title('Mean')\n",
    "plt.grid(False)\n",
    "\n",
    "# Plot relative errors in the right subplot\n",
    "fig2 = plt.subplot(122)\n",
    "plt.imshow(rel_err, interpolation='none', cmap='jet')\n",
    "plt.title('Rel. Err.')\n",
    "plt.grid(False)"
   ]
  },
  {
   "cell_type": "markdown",
   "metadata": {},
   "source": [
    "## Plotting Flux Tallies"
   ]
  },
  {
   "cell_type": "markdown",
   "metadata": {
    "collapsed": true
   },
   "source": [
    "For our second example we will plot the neutron flux in energy across the fuel assembly. The neutron flux is encapsulated by the `flux` `Tally` that we extracted from the `StatePoint`. First, let's extract the mean values into an NumPy array variable called `fluxes`:"
   ]
  },
  {
   "cell_type": "code",
   "execution_count": 28,
   "metadata": {
    "collapsed": true
   },
   "outputs": [],
   "source": [
    "# Extract the flux mean values array\n",
    "fluxes = flux.mean.flatten()\n",
    "\n",
    "# Extend the flux array for Matplotlib's step plot\n",
    "fluxes = np.insert(fluxes, 0, fluxes[0])"
   ]
  },
  {
   "cell_type": "markdown",
   "metadata": {},
   "source": [
    "Next we will extract the energies for each tally bin by retrieving the \"energy\" `Filter` using the `Tally.find_filter(...)` method:"
   ]
  },
  {
   "cell_type": "code",
   "execution_count": 29,
   "metadata": {
    "collapsed": false
   },
   "outputs": [],
   "source": [
    "# Extract the \"energy\" Filter from the Tally\n",
    "energy_filter = flux.find_filter('energy')\n",
    "energies = energy_filter.bins"
   ]
  },
  {
   "cell_type": "markdown",
   "metadata": {},
   "source": [
    "Finally, we can plot the flux data in a log-log plot with Matplotlib:"
   ]
  },
  {
   "cell_type": "code",
   "execution_count": 30,
   "metadata": {
    "collapsed": false
   },
   "outputs": [
    {
     "data": {
      "text/plain": [
       "<matplotlib.text.Text at 0x7ffb1b1b6668>"
      ]
     },
     "execution_count": 30,
     "metadata": {},
     "output_type": "execute_result"
    },
    {
     "data": {
      "image/png": "[encoded data removed]",
      "text/plain": [
       "<matplotlib.figure.Figure at 0x7ffb21860ba8>"
      ]
     },
     "metadata": {},
     "output_type": "display_data"
    }
   ],
   "source": [
    "fig = plt.figure()\n",
    "plt.loglog(energies, fluxes, drawstyle='steps', c='r')\n",
    "plt.xlabel('Energy [eV]')\n",
    "plt.ylabel('Flux')"
   ]
  },
  {
   "cell_type": "markdown",
   "metadata": {},
   "source": [
    "The plot exhibits high and low energy peaks as well as degradation in the resonance region just as we expect for an LWR."
   ]
  },
  {
   "cell_type": "markdown",
   "metadata": {},
   "source": [
    "## Pandas DataFrames"
   ]
  },
  {
   "cell_type": "markdown",
   "metadata": {},
   "source": [
    "The preceding section highlighted how to directly extract raw data from a `Tally` object as NumPy arrays. One primary difficulty that may arise with tally data processing is that the data in a simple NumPy array is *opaque* - *i.e.*, it is not clear which data points correspond to which `Filter`, nuclide or score bins. This section illustrates a powerful of OpenMC's Python API which leverages the [Pandas](http://pandas.pydata.org/) data analysis library. The Pandas package is rich and extensive. In this section we will focus on the use of Pandas `DataFrame` objects to encapsulate tally data."
   ]
  },
  {
   "cell_type": "markdown",
   "metadata": {},
   "source": [
    "#### Get a Pandas `DataFrame` of `Tally` Data"
   ]
  },
  {
   "cell_type": "markdown",
   "metadata": {},
   "source": [
    "A Pandas DataFrame may be retrieved from any OpenMC `Tally` object through the `Tally.get_pandas_dataframe(...)` method. Let's give it a try and build a `DataFrame` in a variable called `df` for our `Tally` called `mesh_fiss`:"
   ]
  },
  {
   "cell_type": "code",
   "execution_count": 31,
   "metadata": {
    "collapsed": false
   },
   "outputs": [],
   "source": [
    "df = mesh_fiss.get_pandas_dataframe()"
   ]
  },
  {
   "cell_type": "markdown",
   "metadata": {},
   "source": [
    "We can easily inspect a Pandas DataFrame in the Jupyter Notebook by simply ending a cell with the variable holding a `DataFrame`. Due to the size of the dataset in our `mesh_fiss` `Tally` we will use the `DataFrame.head(...)` method to restrict the output to only the first 10 rows on the `DataFrame`:"
   ]
  },
  {
   "cell_type": "code",
   "execution_count": 32,
   "metadata": {
    "collapsed": false
   },
   "outputs": [
    {
     "data": {
      "text/html": [
       "<div>\n",
       "<table border=\"1\" class=\"dataframe\">\n",
       "  <thead>\n",
       "    <tr>\n",
       "      <th></th>\n",
       "      <th colspan=\"3\" halign=\"left\">mesh 10000</th>\n",
       "      <th>nuclide</th>\n",
       "      <th>score</th>\n",
       "      <th>mean</th>\n",
       "      <th>std. dev.</th>\n",
       "    </tr>\n",
       "    <tr>\n",
       "      <th></th>\n",
       "      <th>x</th>\n",
       "      <th>y</th>\n",
       "      <th>z</th>\n",
       "      <th></th>\n",
       "      <th></th>\n",
       "      <th></th>\n",
       "      <th></th>\n",
       "    </tr>\n",
       "  </thead>\n",
       "  <tbody>\n",
       "    <tr>\n",
       "      <th>0</th>\n",
       "      <td>1</td>\n",
       "      <td>1</td>\n",
       "      <td>1</td>\n",
       "      <td>U-235</td>\n",
       "      <td>fission</td>\n",
       "      <td>0.001375</td>\n",
       "      <td>6.373574e-06</td>\n",
       "    </tr>\n",
       "    <tr>\n",
       "      <th>1</th>\n",
       "      <td>1</td>\n",
       "      <td>1</td>\n",
       "      <td>1</td>\n",
       "      <td>U-238</td>\n",
       "      <td>fission</td>\n",
       "      <td>0.000104</td>\n",
       "      <td>4.640627e-07</td>\n",
       "    </tr>\n",
       "    <tr>\n",
       "      <th>2</th>\n",
       "      <td>1</td>\n",
       "      <td>2</td>\n",
       "      <td>1</td>\n",
       "      <td>U-235</td>\n",
       "      <td>fission</td>\n",
       "      <td>0.001381</td>\n",
       "      <td>6.341962e-06</td>\n",
       "    </tr>\n",
       "    <tr>\n",
       "      <th>3</th>\n",
       "      <td>1</td>\n",
       "      <td>2</td>\n",
       "      <td>1</td>\n",
       "      <td>U-238</td>\n",
       "      <td>fission</td>\n",
       "      <td>0.000104</td>\n",
       "      <td>4.793173e-07</td>\n",
       "    </tr>\n",
       "    <tr>\n",
       "      <th>4</th>\n",
       "      <td>1</td>\n",
       "      <td>3</td>\n",
       "      <td>1</td>\n",
       "      <td>U-235</td>\n",
       "      <td>fission</td>\n",
       "      <td>0.001393</td>\n",
       "      <td>6.007585e-06</td>\n",
       "    </tr>\n",
       "    <tr>\n",
       "      <th>5</th>\n",
       "      <td>1</td>\n",
       "      <td>3</td>\n",
       "      <td>1</td>\n",
       "      <td>U-238</td>\n",
       "      <td>fission</td>\n",
       "      <td>0.000103</td>\n",
       "      <td>3.842593e-07</td>\n",
       "    </tr>\n",
       "    <tr>\n",
       "      <th>6</th>\n",
       "      <td>1</td>\n",
       "      <td>4</td>\n",
       "      <td>1</td>\n",
       "      <td>U-235</td>\n",
       "      <td>fission</td>\n",
       "      <td>0.001409</td>\n",
       "      <td>5.794001e-06</td>\n",
       "    </tr>\n",
       "    <tr>\n",
       "      <th>7</th>\n",
       "      <td>1</td>\n",
       "      <td>4</td>\n",
       "      <td>1</td>\n",
       "      <td>U-238</td>\n",
       "      <td>fission</td>\n",
       "      <td>0.000104</td>\n",
       "      <td>4.182092e-07</td>\n",
       "    </tr>\n",
       "    <tr>\n",
       "      <th>8</th>\n",
       "      <td>1</td>\n",
       "      <td>5</td>\n",
       "      <td>1</td>\n",
       "      <td>U-235</td>\n",
       "      <td>fission</td>\n",
       "      <td>0.001415</td>\n",
       "      <td>6.876840e-06</td>\n",
       "    </tr>\n",
       "    <tr>\n",
       "      <th>9</th>\n",
       "      <td>1</td>\n",
       "      <td>5</td>\n",
       "      <td>1</td>\n",
       "      <td>U-238</td>\n",
       "      <td>fission</td>\n",
       "      <td>0.000103</td>\n",
       "      <td>4.424510e-07</td>\n",
       "    </tr>\n",
       "  </tbody>\n",
       "</table>\n",
       "</div>"
      ],
      "text/plain": [
       "  mesh 10000       nuclide    score      mean     std. dev.\n",
       "           x  y  z                                         \n",
       "0          1  1  1   U-235  fission  0.001375  6.373574e-06\n",
       "1          1  1  1   U-238  fission  0.000104  4.640627e-07\n",
       "2          1  2  1   U-235  fission  0.001381  6.341962e-06\n",
       "3          1  2  1   U-238  fission  0.000104  4.793173e-07\n",
       "4          1  3  1   U-235  fission  0.001393  6.007585e-06\n",
       "5          1  3  1   U-238  fission  0.000103  3.842593e-07\n",
       "6          1  4  1   U-235  fission  0.001409  5.794001e-06\n",
       "7          1  4  1   U-238  fission  0.000104  4.182092e-07\n",
       "8          1  5  1   U-235  fission  0.001415  6.876840e-06\n",
       "9          1  5  1   U-238  fission  0.000103  4.424510e-07"
      ]
     },
     "execution_count": 32,
     "metadata": {},
     "output_type": "execute_result"
    }
   ],
   "source": [
    "df.head(10)"
   ]
  },
  {
   "cell_type": "markdown",
   "metadata": {},
   "source": [
    "As we can see, the Pandas `DataFrame` presents the data in a human-friendly format with the filter, nuclide and score information along with the estimated means and standard deviations. Let's inspect the Pandas DataFrame the same for the `flux` `Tally`:"
   ]
  },
  {
   "cell_type": "code",
   "execution_count": 33,
   "metadata": {
    "collapsed": false
   },
   "outputs": [
    {
     "data": {
      "text/html": [
       "<div>\n",
       "<table border=\"1\" class=\"dataframe\">\n",
       "  <thead>\n",
       "    <tr style=\"text-align: right;\">\n",
       "      <th></th>\n",
       "      <th>energy low [MeV]</th>\n",
       "      <th>energy high [MeV]</th>\n",
       "      <th>nuclide</th>\n",
       "      <th>score</th>\n",
       "      <th>mean</th>\n",
       "      <th>std. dev.</th>\n",
       "    </tr>\n",
       "  </thead>\n",
       "  <tbody>\n",
       "    <tr>\n",
       "      <th>0</th>\n",
       "      <td>1.000000e-08</td>\n",
       "      <td>1.020733e-08</td>\n",
       "      <td>total</td>\n",
       "      <td>flux</td>\n",
       "      <td>0.013111</td>\n",
       "      <td>0.000040</td>\n",
       "    </tr>\n",
       "    <tr>\n",
       "      <th>1</th>\n",
       "      <td>1.020733e-08</td>\n",
       "      <td>1.041895e-08</td>\n",
       "      <td>total</td>\n",
       "      <td>flux</td>\n",
       "      <td>0.013644</td>\n",
       "      <td>0.000048</td>\n",
       "    </tr>\n",
       "    <tr>\n",
       "      <th>2</th>\n",
       "      <td>1.041895e-08</td>\n",
       "      <td>1.063496e-08</td>\n",
       "      <td>total</td>\n",
       "      <td>flux</td>\n",
       "      <td>0.014035</td>\n",
       "      <td>0.000046</td>\n",
       "    </tr>\n",
       "    <tr>\n",
       "      <th>3</th>\n",
       "      <td>1.063496e-08</td>\n",
       "      <td>1.085545e-08</td>\n",
       "      <td>total</td>\n",
       "      <td>flux</td>\n",
       "      <td>0.014539</td>\n",
       "      <td>0.000052</td>\n",
       "    </tr>\n",
       "    <tr>\n",
       "      <th>4</th>\n",
       "      <td>1.085545e-08</td>\n",
       "      <td>1.108052e-08</td>\n",
       "      <td>total</td>\n",
       "      <td>flux</td>\n",
       "      <td>0.014996</td>\n",
       "      <td>0.000045</td>\n",
       "    </tr>\n",
       "    <tr>\n",
       "      <th>5</th>\n",
       "      <td>1.108052e-08</td>\n",
       "      <td>1.131024e-08</td>\n",
       "      <td>total</td>\n",
       "      <td>flux</td>\n",
       "      <td>0.015503</td>\n",
       "      <td>0.000057</td>\n",
       "    </tr>\n",
       "    <tr>\n",
       "      <th>6</th>\n",
       "      <td>1.131024e-08</td>\n",
       "      <td>1.154474e-08</td>\n",
       "      <td>total</td>\n",
       "      <td>flux</td>\n",
       "      <td>0.015992</td>\n",
       "      <td>0.000045</td>\n",
       "    </tr>\n",
       "    <tr>\n",
       "      <th>7</th>\n",
       "      <td>1.154474e-08</td>\n",
       "      <td>1.178409e-08</td>\n",
       "      <td>total</td>\n",
       "      <td>flux</td>\n",
       "      <td>0.016522</td>\n",
       "      <td>0.000052</td>\n",
       "    </tr>\n",
       "    <tr>\n",
       "      <th>8</th>\n",
       "      <td>1.178409e-08</td>\n",
       "      <td>1.202840e-08</td>\n",
       "      <td>total</td>\n",
       "      <td>flux</td>\n",
       "      <td>0.017075</td>\n",
       "      <td>0.000058</td>\n",
       "    </tr>\n",
       "    <tr>\n",
       "      <th>9</th>\n",
       "      <td>1.202840e-08</td>\n",
       "      <td>1.227778e-08</td>\n",
       "      <td>total</td>\n",
       "      <td>flux</td>\n",
       "      <td>0.017799</td>\n",
       "      <td>0.000054</td>\n",
       "    </tr>\n",
       "  </tbody>\n",
       "</table>\n",
       "</div>"
      ],
      "text/plain": [
       "   energy low [MeV]  energy high [MeV] nuclide score      mean  std. dev.\n",
       "0      1.000000e-08       1.020733e-08   total  flux  0.013111   0.000040\n",
       "1      1.020733e-08       1.041895e-08   total  flux  0.013644   0.000048\n",
       "2      1.041895e-08       1.063496e-08   total  flux  0.014035   0.000046\n",
       "3      1.063496e-08       1.085545e-08   total  flux  0.014539   0.000052\n",
       "4      1.085545e-08       1.108052e-08   total  flux  0.014996   0.000045\n",
       "5      1.108052e-08       1.131024e-08   total  flux  0.015503   0.000057\n",
       "6      1.131024e-08       1.154474e-08   total  flux  0.015992   0.000045\n",
       "7      1.154474e-08       1.178409e-08   total  flux  0.016522   0.000052\n",
       "8      1.178409e-08       1.202840e-08   total  flux  0.017075   0.000058\n",
       "9      1.202840e-08       1.227778e-08   total  flux  0.017799   0.000054"
      ]
     },
     "execution_count": 33,
     "metadata": {},
     "output_type": "execute_result"
    }
   ],
   "source": [
    "df = flux.get_pandas_dataframe()\n",
    "df.head(10)"
   ]
  },
  {
   "cell_type": "markdown",
   "metadata": {},
   "source": [
    "The Pandas DataFrames feature supports all possible combinations of `Filters`, nuclides and scores which may be composed into a `Tally` objects. As a final example, let's consider the `distribcell` `Tally` which uses a \"distribcell\" `Filter`:"
   ]
  },
  {
   "cell_type": "code",
   "execution_count": 34,
   "metadata": {
    "collapsed": false
   },
   "outputs": [
    {
     "data": {
      "text/html": [
       "<div>\n",
       "<table border=\"1\" class=\"dataframe\">\n",
       "  <thead>\n",
       "    <tr style=\"text-align: right;\">\n",
       "      <th></th>\n",
       "      <th>distribcell</th>\n",
       "      <th>nuclide</th>\n",
       "      <th>score</th>\n",
       "      <th>mean</th>\n",
       "      <th>std. dev.</th>\n",
       "    </tr>\n",
       "  </thead>\n",
       "  <tbody>\n",
       "    <tr>\n",
       "      <th>0</th>\n",
       "      <td>0</td>\n",
       "      <td>U-235</td>\n",
       "      <td>absorption</td>\n",
       "      <td>0.001652</td>\n",
       "      <td>7.491498e-06</td>\n",
       "    </tr>\n",
       "    <tr>\n",
       "      <th>1</th>\n",
       "      <td>0</td>\n",
       "      <td>U-235</td>\n",
       "      <td>fission</td>\n",
       "      <td>0.001375</td>\n",
       "      <td>6.373574e-06</td>\n",
       "    </tr>\n",
       "    <tr>\n",
       "      <th>2</th>\n",
       "      <td>0</td>\n",
       "      <td>U-238</td>\n",
       "      <td>absorption</td>\n",
       "      <td>0.001150</td>\n",
       "      <td>7.490925e-06</td>\n",
       "    </tr>\n",
       "    <tr>\n",
       "      <th>3</th>\n",
       "      <td>0</td>\n",
       "      <td>U-238</td>\n",
       "      <td>fission</td>\n",
       "      <td>0.000104</td>\n",
       "      <td>4.640627e-07</td>\n",
       "    </tr>\n",
       "    <tr>\n",
       "      <th>4</th>\n",
       "      <td>1</td>\n",
       "      <td>U-235</td>\n",
       "      <td>absorption</td>\n",
       "      <td>0.001658</td>\n",
       "      <td>7.474689e-06</td>\n",
       "    </tr>\n",
       "    <tr>\n",
       "      <th>5</th>\n",
       "      <td>1</td>\n",
       "      <td>U-235</td>\n",
       "      <td>fission</td>\n",
       "      <td>0.001381</td>\n",
       "      <td>6.341962e-06</td>\n",
       "    </tr>\n",
       "    <tr>\n",
       "      <th>6</th>\n",
       "      <td>1</td>\n",
       "      <td>U-238</td>\n",
       "      <td>absorption</td>\n",
       "      <td>0.001153</td>\n",
       "      <td>7.287815e-06</td>\n",
       "    </tr>\n",
       "    <tr>\n",
       "      <th>7</th>\n",
       "      <td>1</td>\n",
       "      <td>U-238</td>\n",
       "      <td>fission</td>\n",
       "      <td>0.000104</td>\n",
       "      <td>4.793173e-07</td>\n",
       "    </tr>\n",
       "    <tr>\n",
       "      <th>8</th>\n",
       "      <td>2</td>\n",
       "      <td>U-235</td>\n",
       "      <td>absorption</td>\n",
       "      <td>0.001673</td>\n",
       "      <td>7.097183e-06</td>\n",
       "    </tr>\n",
       "    <tr>\n",
       "      <th>9</th>\n",
       "      <td>2</td>\n",
       "      <td>U-235</td>\n",
       "      <td>fission</td>\n",
       "      <td>0.001393</td>\n",
       "      <td>6.007585e-06</td>\n",
       "    </tr>\n",
       "  </tbody>\n",
       "</table>\n",
       "</div>"
      ],
      "text/plain": [
       "   distribcell nuclide       score      mean     std. dev.\n",
       "0            0   U-235  absorption  0.001652  7.491498e-06\n",
       "1            0   U-235     fission  0.001375  6.373574e-06\n",
       "2            0   U-238  absorption  0.001150  7.490925e-06\n",
       "3            0   U-238     fission  0.000104  4.640627e-07\n",
       "4            1   U-235  absorption  0.001658  7.474689e-06\n",
       "5            1   U-235     fission  0.001381  6.341962e-06\n",
       "6            1   U-238  absorption  0.001153  7.287815e-06\n",
       "7            1   U-238     fission  0.000104  4.793173e-07\n",
       "8            2   U-235  absorption  0.001673  7.097183e-06\n",
       "9            2   U-235     fission  0.001393  6.007585e-06"
      ]
     },
     "execution_count": 34,
     "metadata": {},
     "output_type": "execute_result"
    }
   ],
   "source": [
    "df = distribcell.get_pandas_dataframe()\n",
    "df.head(10)"
   ]
  },
  {
   "cell_type": "markdown",
   "metadata": {},
   "source": [
    "It can often be useful to visualize the specific location for each \"distribcell\" `Filter` bin. The `Tally.get_pandas_dataframe(...)` method supports an optional parameter for the `Summary` object specifically for this purpose:"
   ]
  },
  {
   "cell_type": "code",
   "execution_count": 35,
   "metadata": {
    "collapsed": false
   },
   "outputs": [
    {
     "data": {
      "text/html": [
       "<div>\n",
       "<table border=\"1\" class=\"dataframe\">\n",
       "  <thead>\n",
       "    <tr>\n",
       "      <th></th>\n",
       "      <th colspan=\"2\" halign=\"left\">level 1</th>\n",
       "      <th colspan=\"4\" halign=\"left\">level 2</th>\n",
       "      <th colspan=\"2\" halign=\"left\">level 3</th>\n",
       "      <th>distribcell</th>\n",
       "      <th>nuclide</th>\n",
       "      <th>score</th>\n",
       "      <th>mean</th>\n",
       "      <th>std. dev.</th>\n",
       "    </tr>\n",
       "    <tr>\n",
       "      <th></th>\n",
       "      <th>cell</th>\n",
       "      <th>univ</th>\n",
       "      <th colspan=\"4\" halign=\"left\">lat</th>\n",
       "      <th>cell</th>\n",
       "      <th>univ</th>\n",
       "      <th></th>\n",
       "      <th></th>\n",
       "      <th></th>\n",
       "      <th></th>\n",
       "      <th></th>\n",
       "    </tr>\n",
       "    <tr>\n",
       "      <th></th>\n",
       "      <th>id</th>\n",
       "      <th>id</th>\n",
       "      <th>id</th>\n",
       "      <th>x</th>\n",
       "      <th>y</th>\n",
       "      <th>z</th>\n",
       "      <th>id</th>\n",
       "      <th>id</th>\n",
       "      <th></th>\n",
       "      <th></th>\n",
       "      <th></th>\n",
       "      <th></th>\n",
       "      <th></th>\n",
       "    </tr>\n",
       "  </thead>\n",
       "  <tbody>\n",
       "    <tr>\n",
       "      <th>0</th>\n",
       "      <td>10006</td>\n",
       "      <td>0</td>\n",
       "      <td>10002</td>\n",
       "      <td>0</td>\n",
       "      <td>16</td>\n",
       "      <td>0</td>\n",
       "      <td>10000</td>\n",
       "      <td>10000</td>\n",
       "      <td>0</td>\n",
       "      <td>U-235</td>\n",
       "      <td>absorption</td>\n",
       "      <td>0.001652</td>\n",
       "      <td>7.491498e-06</td>\n",
       "    </tr>\n",
       "    <tr>\n",
       "      <th>1</th>\n",
       "      <td>10006</td>\n",
       "      <td>0</td>\n",
       "      <td>10002</td>\n",
       "      <td>0</td>\n",
       "      <td>16</td>\n",
       "      <td>0</td>\n",
       "      <td>10000</td>\n",
       "      <td>10000</td>\n",
       "      <td>0</td>\n",
       "      <td>U-235</td>\n",
       "      <td>fission</td>\n",
       "      <td>0.001375</td>\n",
       "      <td>6.373574e-06</td>\n",
       "    </tr>\n",
       "    <tr>\n",
       "      <th>2</th>\n",
       "      <td>10006</td>\n",
       "      <td>0</td>\n",
       "      <td>10002</td>\n",
       "      <td>0</td>\n",
       "      <td>16</td>\n",
       "      <td>0</td>\n",
       "      <td>10000</td>\n",
       "      <td>10000</td>\n",
       "      <td>0</td>\n",
       "      <td>U-238</td>\n",
       "      <td>absorption</td>\n",
       "      <td>0.001150</td>\n",
       "      <td>7.490925e-06</td>\n",
       "    </tr>\n",
       "    <tr>\n",
       "      <th>3</th>\n",
       "      <td>10006</td>\n",
       "      <td>0</td>\n",
       "      <td>10002</td>\n",
       "      <td>0</td>\n",
       "      <td>16</td>\n",
       "      <td>0</td>\n",
       "      <td>10000</td>\n",
       "      <td>10000</td>\n",
       "      <td>0</td>\n",
       "      <td>U-238</td>\n",
       "      <td>fission</td>\n",
       "      <td>0.000104</td>\n",
       "      <td>4.640627e-07</td>\n",
       "    </tr>\n",
       "    <tr>\n",
       "      <th>4</th>\n",
       "      <td>10006</td>\n",
       "      <td>0</td>\n",
       "      <td>10002</td>\n",
       "      <td>0</td>\n",
       "      <td>15</td>\n",
       "      <td>0</td>\n",
       "      <td>10000</td>\n",
       "      <td>10000</td>\n",
       "      <td>1</td>\n",
       "      <td>U-235</td>\n",
       "      <td>absorption</td>\n",
       "      <td>0.001658</td>\n",
       "      <td>7.474689e-06</td>\n",
       "    </tr>\n",
       "    <tr>\n",
       "      <th>5</th>\n",
       "      <td>10006</td>\n",
       "      <td>0</td>\n",
       "      <td>10002</td>\n",
       "      <td>0</td>\n",
       "      <td>15</td>\n",
       "      <td>0</td>\n",
       "      <td>10000</td>\n",
       "      <td>10000</td>\n",
       "      <td>1</td>\n",
       "      <td>U-235</td>\n",
       "      <td>fission</td>\n",
       "      <td>0.001381</td>\n",
       "      <td>6.341962e-06</td>\n",
       "    </tr>\n",
       "    <tr>\n",
       "      <th>6</th>\n",
       "      <td>10006</td>\n",
       "      <td>0</td>\n",
       "      <td>10002</td>\n",
       "      <td>0</td>\n",
       "      <td>15</td>\n",
       "      <td>0</td>\n",
       "      <td>10000</td>\n",
       "      <td>10000</td>\n",
       "      <td>1</td>\n",
       "      <td>U-238</td>\n",
       "      <td>absorption</td>\n",
       "      <td>0.001153</td>\n",
       "      <td>7.287815e-06</td>\n",
       "    </tr>\n",
       "    <tr>\n",
       "      <th>7</th>\n",
       "      <td>10006</td>\n",
       "      <td>0</td>\n",
       "      <td>10002</td>\n",
       "      <td>0</td>\n",
       "      <td>15</td>\n",
       "      <td>0</td>\n",
       "      <td>10000</td>\n",
       "      <td>10000</td>\n",
       "      <td>1</td>\n",
       "      <td>U-238</td>\n",
       "      <td>fission</td>\n",
       "      <td>0.000104</td>\n",
       "      <td>4.793173e-07</td>\n",
       "    </tr>\n",
       "    <tr>\n",
       "      <th>8</th>\n",
       "      <td>10006</td>\n",
       "      <td>0</td>\n",
       "      <td>10002</td>\n",
       "      <td>0</td>\n",
       "      <td>14</td>\n",
       "      <td>0</td>\n",
       "      <td>10000</td>\n",
       "      <td>10000</td>\n",
       "      <td>2</td>\n",
       "      <td>U-235</td>\n",
       "      <td>absorption</td>\n",
       "      <td>0.001673</td>\n",
       "      <td>7.097183e-06</td>\n",
       "    </tr>\n",
       "    <tr>\n",
       "      <th>9</th>\n",
       "      <td>10006</td>\n",
       "      <td>0</td>\n",
       "      <td>10002</td>\n",
       "      <td>0</td>\n",
       "      <td>14</td>\n",
       "      <td>0</td>\n",
       "      <td>10000</td>\n",
       "      <td>10000</td>\n",
       "      <td>2</td>\n",
       "      <td>U-235</td>\n",
       "      <td>fission</td>\n",
       "      <td>0.001393</td>\n",
       "      <td>6.007585e-06</td>\n",
       "    </tr>\n",
       "  </tbody>\n",
       "</table>\n",
       "</div>"
      ],
      "text/plain": [
       "  level 1      level 2           level 3        distribcell nuclide  \\\n",
       "     cell univ     lat              cell   univ                       \n",
       "       id   id      id  x   y  z      id     id                       \n",
       "0   10006    0   10002  0  16  0   10000  10000           0   U-235   \n",
       "1   10006    0   10002  0  16  0   10000  10000           0   U-235   \n",
       "2   10006    0   10002  0  16  0   10000  10000           0   U-238   \n",
       "3   10006    0   10002  0  16  0   10000  10000           0   U-238   \n",
       "4   10006    0   10002  0  15  0   10000  10000           1   U-235   \n",
       "5   10006    0   10002  0  15  0   10000  10000           1   U-235   \n",
       "6   10006    0   10002  0  15  0   10000  10000           1   U-238   \n",
       "7   10006    0   10002  0  15  0   10000  10000           1   U-238   \n",
       "8   10006    0   10002  0  14  0   10000  10000           2   U-235   \n",
       "9   10006    0   10002  0  14  0   10000  10000           2   U-235   \n",
       "\n",
       "        score      mean     std. dev.  \n",
       "                                       \n",
       "                                       \n",
       "0  absorption  0.001652  7.491498e-06  \n",
       "1     fission  0.001375  6.373574e-06  \n",
       "2  absorption  0.001150  7.490925e-06  \n",
       "3     fission  0.000104  4.640627e-07  \n",
       "4  absorption  0.001658  7.474689e-06  \n",
       "5     fission  0.001381  6.341962e-06  \n",
       "6  absorption  0.001153  7.287815e-06  \n",
       "7     fission  0.000104  4.793173e-07  \n",
       "8  absorption  0.001673  7.097183e-06  \n",
       "9     fission  0.001393  6.007585e-06  "
      ]
     },
     "execution_count": 35,
     "metadata": {},
     "output_type": "execute_result"
    }
   ],
   "source": [
    "df = distribcell.get_pandas_dataframe(summary=su)\n",
    "df.head(10)"
   ]
  },
  {
   "cell_type": "markdown",
   "metadata": {},
   "source": [
    "#### Pandas Fancy Indexing"
   ]
  },
  {
   "cell_type": "markdown",
   "metadata": {},
   "source": [
    "Although Pandas DataFrames present complex tally data in a visually-appealing tabular format, the real power of Pandas is through its rich feature set for data munging and modeling. Unfortunately, we don't have time in this workshop to even scratch the surface of what is possible with Pandas, but we will highlight one nice feature in fancy indexing here.\n",
    "\n",
    "First, Pandas supports fance indexing schemes to permit easy selection of subsets of data from a `DataFrame`. For example, consider the case where we may wish to create a `DataFrame` in a variable called `sub_df` with only the \"U-235\" tally data in the `mesh_fiss` `Tally:"
   ]
  },
  {
   "cell_type": "code",
   "execution_count": 36,
   "metadata": {
    "collapsed": false
   },
   "outputs": [
    {
     "data": {
      "text/html": [
       "<div>\n",
       "<table border=\"1\" class=\"dataframe\">\n",
       "  <thead>\n",
       "    <tr>\n",
       "      <th></th>\n",
       "      <th colspan=\"3\" halign=\"left\">mesh 10000</th>\n",
       "      <th>nuclide</th>\n",
       "      <th>score</th>\n",
       "      <th>mean</th>\n",
       "      <th>std. dev.</th>\n",
       "    </tr>\n",
       "    <tr>\n",
       "      <th></th>\n",
       "      <th>x</th>\n",
       "      <th>y</th>\n",
       "      <th>z</th>\n",
       "      <th></th>\n",
       "      <th></th>\n",
       "      <th></th>\n",
       "      <th></th>\n",
       "    </tr>\n",
       "  </thead>\n",
       "  <tbody>\n",
       "    <tr>\n",
       "      <th>0</th>\n",
       "      <td>1</td>\n",
       "      <td>1</td>\n",
       "      <td>1</td>\n",
       "      <td>U-235</td>\n",
       "      <td>fission</td>\n",
       "      <td>0.001375</td>\n",
       "      <td>0.000006</td>\n",
       "    </tr>\n",
       "    <tr>\n",
       "      <th>2</th>\n",
       "      <td>1</td>\n",
       "      <td>2</td>\n",
       "      <td>1</td>\n",
       "      <td>U-235</td>\n",
       "      <td>fission</td>\n",
       "      <td>0.001381</td>\n",
       "      <td>0.000006</td>\n",
       "    </tr>\n",
       "    <tr>\n",
       "      <th>4</th>\n",
       "      <td>1</td>\n",
       "      <td>3</td>\n",
       "      <td>1</td>\n",
       "      <td>U-235</td>\n",
       "      <td>fission</td>\n",
       "      <td>0.001393</td>\n",
       "      <td>0.000006</td>\n",
       "    </tr>\n",
       "    <tr>\n",
       "      <th>6</th>\n",
       "      <td>1</td>\n",
       "      <td>4</td>\n",
       "      <td>1</td>\n",
       "      <td>U-235</td>\n",
       "      <td>fission</td>\n",
       "      <td>0.001409</td>\n",
       "      <td>0.000006</td>\n",
       "    </tr>\n",
       "    <tr>\n",
       "      <th>8</th>\n",
       "      <td>1</td>\n",
       "      <td>5</td>\n",
       "      <td>1</td>\n",
       "      <td>U-235</td>\n",
       "      <td>fission</td>\n",
       "      <td>0.001415</td>\n",
       "      <td>0.000007</td>\n",
       "    </tr>\n",
       "  </tbody>\n",
       "</table>\n",
       "</div>"
      ],
      "text/plain": [
       "  mesh 10000       nuclide    score      mean std. dev.\n",
       "           x  y  z                                     \n",
       "0          1  1  1   U-235  fission  0.001375  0.000006\n",
       "2          1  2  1   U-235  fission  0.001381  0.000006\n",
       "4          1  3  1   U-235  fission  0.001393  0.000006\n",
       "6          1  4  1   U-235  fission  0.001409  0.000006\n",
       "8          1  5  1   U-235  fission  0.001415  0.000007"
      ]
     },
     "execution_count": 36,
     "metadata": {},
     "output_type": "execute_result"
    }
   ],
   "source": [
    "df = mesh_fiss.get_pandas_dataframe()\n",
    "sub_df = df[df['nuclide'] == 'U-235']\n",
    "sub_df.head(5)"
   ]
  },
  {
   "cell_type": "markdown",
   "metadata": {},
   "source": [
    "Now consider the case where we wish to select from `sub_df` those mesh cells which have a \"fission\" rate that is above the average:"
   ]
  },
  {
   "cell_type": "code",
   "execution_count": 37,
   "metadata": {
    "collapsed": false
   },
   "outputs": [
    {
     "data": {
      "text/html": [
       "<div>\n",
       "<table border=\"1\" class=\"dataframe\">\n",
       "  <thead>\n",
       "    <tr>\n",
       "      <th></th>\n",
       "      <th colspan=\"3\" halign=\"left\">mesh 10000</th>\n",
       "      <th>nuclide</th>\n",
       "      <th>score</th>\n",
       "      <th>mean</th>\n",
       "      <th>std. dev.</th>\n",
       "    </tr>\n",
       "    <tr>\n",
       "      <th></th>\n",
       "      <th>x</th>\n",
       "      <th>y</th>\n",
       "      <th>z</th>\n",
       "      <th></th>\n",
       "      <th></th>\n",
       "      <th></th>\n",
       "      <th></th>\n",
       "    </tr>\n",
       "  </thead>\n",
       "  <tbody>\n",
       "    <tr>\n",
       "      <th>44</th>\n",
       "      <td>2</td>\n",
       "      <td>6</td>\n",
       "      <td>1</td>\n",
       "      <td>U-235</td>\n",
       "      <td>fission</td>\n",
       "      <td>0.001484</td>\n",
       "      <td>0.000006</td>\n",
       "    </tr>\n",
       "    <tr>\n",
       "      <th>50</th>\n",
       "      <td>2</td>\n",
       "      <td>9</td>\n",
       "      <td>1</td>\n",
       "      <td>U-235</td>\n",
       "      <td>fission</td>\n",
       "      <td>0.001488</td>\n",
       "      <td>0.000007</td>\n",
       "    </tr>\n",
       "    <tr>\n",
       "      <th>56</th>\n",
       "      <td>2</td>\n",
       "      <td>12</td>\n",
       "      <td>1</td>\n",
       "      <td>U-235</td>\n",
       "      <td>fission</td>\n",
       "      <td>0.001484</td>\n",
       "      <td>0.000006</td>\n",
       "    </tr>\n",
       "    <tr>\n",
       "      <th>74</th>\n",
       "      <td>3</td>\n",
       "      <td>4</td>\n",
       "      <td>1</td>\n",
       "      <td>U-235</td>\n",
       "      <td>fission</td>\n",
       "      <td>0.001480</td>\n",
       "      <td>0.000006</td>\n",
       "    </tr>\n",
       "    <tr>\n",
       "      <th>76</th>\n",
       "      <td>3</td>\n",
       "      <td>5</td>\n",
       "      <td>1</td>\n",
       "      <td>U-235</td>\n",
       "      <td>fission</td>\n",
       "      <td>0.001508</td>\n",
       "      <td>0.000006</td>\n",
       "    </tr>\n",
       "  </tbody>\n",
       "</table>\n",
       "</div>"
      ],
      "text/plain": [
       "   mesh 10000        nuclide    score      mean std. dev.\n",
       "            x   y  z                                     \n",
       "44          2   6  1   U-235  fission  0.001484  0.000006\n",
       "50          2   9  1   U-235  fission  0.001488  0.000007\n",
       "56          2  12  1   U-235  fission  0.001484  0.000006\n",
       "74          3   4  1   U-235  fission  0.001480  0.000006\n",
       "76          3   5  1   U-235  fission  0.001508  0.000006"
      ]
     },
     "execution_count": 37,
     "metadata": {},
     "output_type": "execute_result"
    }
   ],
   "source": [
    "# Replace 0's with NaN to eliminate them from average\n",
    "sub_df = sub_df.replace(0, np.nan)\n",
    "\n",
    "# Extract rows corresponding to above average fission rates\n",
    "indices = sub_df['mean'] > sub_df['mean'].mean()\n",
    "above_avg = sub_df[indices]\n",
    "above_avg.head(5)"
   ]
  },
  {
   "cell_type": "markdown",
   "metadata": {},
   "source": [
    "Finally, let's use Pandas fancy indexing to select the data corresponding to those mesh cells in the lower left triangle of the mesh:"
   ]
  },
  {
   "cell_type": "code",
   "execution_count": 38,
   "metadata": {
    "collapsed": false
   },
   "outputs": [
    {
     "data": {
      "text/html": [
       "<div>\n",
       "<table border=\"1\" class=\"dataframe\">\n",
       "  <thead>\n",
       "    <tr>\n",
       "      <th></th>\n",
       "      <th colspan=\"3\" halign=\"left\">mesh 10000</th>\n",
       "      <th>nuclide</th>\n",
       "      <th>score</th>\n",
       "      <th>mean</th>\n",
       "      <th>std. dev.</th>\n",
       "    </tr>\n",
       "    <tr>\n",
       "      <th></th>\n",
       "      <th>x</th>\n",
       "      <th>y</th>\n",
       "      <th>z</th>\n",
       "      <th></th>\n",
       "      <th></th>\n",
       "      <th></th>\n",
       "      <th></th>\n",
       "    </tr>\n",
       "  </thead>\n",
       "  <tbody>\n",
       "    <tr>\n",
       "      <th>34</th>\n",
       "      <td>2</td>\n",
       "      <td>1</td>\n",
       "      <td>1</td>\n",
       "      <td>U-235</td>\n",
       "      <td>fission</td>\n",
       "      <td>0.001382</td>\n",
       "      <td>6.761401e-06</td>\n",
       "    </tr>\n",
       "    <tr>\n",
       "      <th>35</th>\n",
       "      <td>2</td>\n",
       "      <td>1</td>\n",
       "      <td>1</td>\n",
       "      <td>U-238</td>\n",
       "      <td>fission</td>\n",
       "      <td>0.000104</td>\n",
       "      <td>3.678533e-07</td>\n",
       "    </tr>\n",
       "    <tr>\n",
       "      <th>68</th>\n",
       "      <td>3</td>\n",
       "      <td>1</td>\n",
       "      <td>1</td>\n",
       "      <td>U-235</td>\n",
       "      <td>fission</td>\n",
       "      <td>0.001386</td>\n",
       "      <td>6.879279e-06</td>\n",
       "    </tr>\n",
       "    <tr>\n",
       "      <th>69</th>\n",
       "      <td>3</td>\n",
       "      <td>1</td>\n",
       "      <td>1</td>\n",
       "      <td>U-238</td>\n",
       "      <td>fission</td>\n",
       "      <td>0.000104</td>\n",
       "      <td>3.748289e-07</td>\n",
       "    </tr>\n",
       "    <tr>\n",
       "      <th>70</th>\n",
       "      <td>3</td>\n",
       "      <td>2</td>\n",
       "      <td>1</td>\n",
       "      <td>U-235</td>\n",
       "      <td>fission</td>\n",
       "      <td>0.001410</td>\n",
       "      <td>5.960832e-06</td>\n",
       "    </tr>\n",
       "  </tbody>\n",
       "</table>\n",
       "</div>"
      ],
      "text/plain": [
       "   mesh 10000       nuclide    score      mean     std. dev.\n",
       "            x  y  z                                         \n",
       "34          2  1  1   U-235  fission  0.001382  6.761401e-06\n",
       "35          2  1  1   U-238  fission  0.000104  3.678533e-07\n",
       "68          3  1  1   U-235  fission  0.001386  6.879279e-06\n",
       "69          3  1  1   U-238  fission  0.000104  3.748289e-07\n",
       "70          3  2  1   U-235  fission  0.001410  5.960832e-06"
      ]
     },
     "execution_count": 38,
     "metadata": {},
     "output_type": "execute_result"
    }
   ],
   "source": [
    "indices = df[('mesh 10000', 'x')] > df[('mesh 10000', 'y')]\n",
    "lower = df[indices]\n",
    "lower.head(5)"
   ]
  },
  {
   "cell_type": "markdown",
   "metadata": {},
   "source": [
    "## Tally Manipulations"
   ]
  },
  {
   "cell_type": "markdown",
   "metadata": {},
   "source": [
    "The OpenMC Python API supports a rich variety of methods to manipulate and combine `Tally` objects. The following sections briefly illustrate how to \"slicing\" and \"summing\" of `Tally` objects, as well as \"`Tally` arithmetic\" operations."
   ]
  },
  {
   "cell_type": "markdown",
   "metadata": {},
   "source": [
    "#### Tally Slicing"
   ]
  },
  {
   "cell_type": "markdown",
   "metadata": {
    "collapsed": true
   },
   "source": [
    "In some cases a `Tally` may have data for multiple `Filter` bins, nuclides or scores which must be treated separately in a downstream data processing workflow. The `Tally.get_slice(...)` method is custom designed to \"slice\" apart `Tally` objects into multiple \"sub\"-`Tally` objects by `Filter` bin(s), nuclide(s) and/or score(s).\n",
    "\n",
    "As an example, let's consider our `distribcell` `Tally` object which has two scores (\"absorption\" and \"fission\") and two nuclides (\"U-235\" and \"U-238\"). First, we will slice `distribcell` into two new `Tally` objects for each score in the new variables `fission` and `absorption`:"
   ]
  },
  {
   "cell_type": "code",
   "execution_count": 39,
   "metadata": {
    "collapsed": false
   },
   "outputs": [
    {
     "name": "stdout",
     "output_type": "stream",
     "text": [
      "Tally\n",
      "\tID             =\t10000\n",
      "\tName           =\tdistribcell\n",
      "\tFilters        =\t\n",
      "                \t\tdistribcell\t[10000]\n",
      "\tNuclides       =\tU-235 U-238 \n",
      "\tScores         =\t['fission']\n",
      "\tEstimator      =\ttracklength\n",
      "\n",
      "Tally\n",
      "\tID             =\t10001\n",
      "\tName           =\tdistribcell\n",
      "\tFilters        =\t\n",
      "                \t\tdistribcell\t[10000]\n",
      "\tNuclides       =\tU-235 U-238 \n",
      "\tScores         =\t['absorption']\n",
      "\tEstimator      =\ttracklength\n",
      "\n"
     ]
    }
   ],
   "source": [
    "# FIXME: Need to show sliced tally (print)\n",
    "fission = distribcell.get_slice(scores=['fission'])\n",
    "absorption = distribcell.get_slice(scores=['absorption'])\n",
    "print(fission)\n",
    "print(absorption)"
   ]
  },
  {
   "cell_type": "markdown",
   "metadata": {
    "collapsed": true
   },
   "source": [
    "Similarly, we can slice apart the `Tally` objects in `fission` and `absorption` by nuclide:"
   ]
  },
  {
   "cell_type": "code",
   "execution_count": 40,
   "metadata": {
    "collapsed": false
   },
   "outputs": [
    {
     "name": "stdout",
     "output_type": "stream",
     "text": [
      "Tally\n",
      "\tID             =\t10002\n",
      "\tName           =\tdistribcell\n",
      "\tFilters        =\t\n",
      "                \t\tdistribcell\t[10000]\n",
      "\tNuclides       =\tU-235 \n",
      "\tScores         =\t['fission']\n",
      "\tEstimator      =\ttracklength\n",
      "\n",
      "Tally\n",
      "\tID             =\t10003\n",
      "\tName           =\tdistribcell\n",
      "\tFilters        =\t\n",
      "                \t\tdistribcell\t[10000]\n",
      "\tNuclides       =\tU-238 \n",
      "\tScores         =\t['absorption']\n",
      "\tEstimator      =\ttracklength\n",
      "\n"
     ]
    }
   ],
   "source": [
    "u235_fission = fission.get_slice(nuclides=['U-235'])\n",
    "u238_absorption = absorption.get_slice(nuclides=['U-238'])\n",
    "print(u235_fission)\n",
    "print(u238_absorption)"
   ]
  },
  {
   "cell_type": "markdown",
   "metadata": {},
   "source": [
    "As we have shown, `Tally` \"slicing\" returns a new `Tally` object which encapsulates only the data of interest. The original `Tally` remains intact and the new \"sliced\" `Tally` object supports the complete `Tally` API as does the original `Tally`. These two examples simply illustrate the basic concept of `Tally` \"slicing\" - `Tally.get_slice(...)` method supports arbitrary slicing over `Filter` bins and/or nuclides and/or scores simultaneously."
   ]
  },
  {
   "cell_type": "markdown",
   "metadata": {},
   "source": [
    "#### Tally Summation"
   ]
  },
  {
   "cell_type": "markdown",
   "metadata": {
    "collapsed": true
   },
   "source": [
    "In some scenarios it may be useful to perform a summation across `Filter` bins, nuclides or scores within a single `Tally`. The `Tally.summation(...)` method is custom built for such purposes. Similar to the `Tally` \"slicing,\" `Tally` \"summation\" returns a new `Tally` object which encapsulates the summation of the underlying data.\n",
    "\n",
    "As an example, let's compute the sum across nuclides \"U-235\" and \"U-238\" in our `distribcell` `Tally` object:"
   ]
  },
  {
   "cell_type": "code",
   "execution_count": 41,
   "metadata": {
    "collapsed": false
   },
   "outputs": [
    {
     "name": "stdout",
     "output_type": "stream",
     "text": [
      "Tally\n",
      "\tID             =\t10004\n",
      "\tName           =\t\n",
      "\tFilters        =\t\n",
      "                \t\tdistribcell\t[10000]\n",
      "\tNuclides       =\tsum(U-235, U-238) \n",
      "\tScores         =\t['absorption', 'fission']\n",
      "\tEstimator      =\ttracklength\n",
      "\n"
     ]
    }
   ],
   "source": [
    "# Sum across nuclides\n",
    "u235_plus_u238 = distribcell.summation(nuclides=['U-235', 'U-238'])\n",
    "print(u235_plus_u238)"
   ]
  },
  {
   "cell_type": "markdown",
   "metadata": {},
   "source": [
    "The new `Tally` \"sum\" object in `u235_plus_u238` includes all of the same properties and methods as the original `distribcell` `Tally` object from which it came. As an example, we can report the first ten rows of the Pandas DataFrame for this `Tally` \"sum\":"
   ]
  },
  {
   "cell_type": "code",
   "execution_count": 42,
   "metadata": {
    "collapsed": false
   },
   "outputs": [
    {
     "data": {
      "text/html": [
       "<div>\n",
       "<table border=\"1\" class=\"dataframe\">\n",
       "  <thead>\n",
       "    <tr style=\"text-align: right;\">\n",
       "      <th></th>\n",
       "      <th>distribcell</th>\n",
       "      <th>sum(nuclide)</th>\n",
       "      <th>score</th>\n",
       "      <th>mean</th>\n",
       "      <th>std. dev.</th>\n",
       "    </tr>\n",
       "  </thead>\n",
       "  <tbody>\n",
       "    <tr>\n",
       "      <th>0</th>\n",
       "      <td>0</td>\n",
       "      <td>(U-235, U-238)</td>\n",
       "      <td>absorption</td>\n",
       "      <td>0.002801</td>\n",
       "      <td>0.000011</td>\n",
       "    </tr>\n",
       "    <tr>\n",
       "      <th>1</th>\n",
       "      <td>0</td>\n",
       "      <td>(U-235, U-238)</td>\n",
       "      <td>fission</td>\n",
       "      <td>0.001479</td>\n",
       "      <td>0.000006</td>\n",
       "    </tr>\n",
       "    <tr>\n",
       "      <th>2</th>\n",
       "      <td>1</td>\n",
       "      <td>(U-235, U-238)</td>\n",
       "      <td>absorption</td>\n",
       "      <td>0.002811</td>\n",
       "      <td>0.000010</td>\n",
       "    </tr>\n",
       "    <tr>\n",
       "      <th>3</th>\n",
       "      <td>1</td>\n",
       "      <td>(U-235, U-238)</td>\n",
       "      <td>fission</td>\n",
       "      <td>0.001485</td>\n",
       "      <td>0.000006</td>\n",
       "    </tr>\n",
       "    <tr>\n",
       "      <th>4</th>\n",
       "      <td>2</td>\n",
       "      <td>(U-235, U-238)</td>\n",
       "      <td>absorption</td>\n",
       "      <td>0.002829</td>\n",
       "      <td>0.000010</td>\n",
       "    </tr>\n",
       "    <tr>\n",
       "      <th>5</th>\n",
       "      <td>2</td>\n",
       "      <td>(U-235, U-238)</td>\n",
       "      <td>fission</td>\n",
       "      <td>0.001497</td>\n",
       "      <td>0.000006</td>\n",
       "    </tr>\n",
       "    <tr>\n",
       "      <th>6</th>\n",
       "      <td>3</td>\n",
       "      <td>(U-235, U-238)</td>\n",
       "      <td>absorption</td>\n",
       "      <td>0.002844</td>\n",
       "      <td>0.000010</td>\n",
       "    </tr>\n",
       "    <tr>\n",
       "      <th>7</th>\n",
       "      <td>3</td>\n",
       "      <td>(U-235, U-238)</td>\n",
       "      <td>fission</td>\n",
       "      <td>0.001512</td>\n",
       "      <td>0.000006</td>\n",
       "    </tr>\n",
       "    <tr>\n",
       "      <th>8</th>\n",
       "      <td>4</td>\n",
       "      <td>(U-235, U-238)</td>\n",
       "      <td>absorption</td>\n",
       "      <td>0.002853</td>\n",
       "      <td>0.000011</td>\n",
       "    </tr>\n",
       "    <tr>\n",
       "      <th>9</th>\n",
       "      <td>4</td>\n",
       "      <td>(U-235, U-238)</td>\n",
       "      <td>fission</td>\n",
       "      <td>0.001518</td>\n",
       "      <td>0.000007</td>\n",
       "    </tr>\n",
       "  </tbody>\n",
       "</table>\n",
       "</div>"
      ],
      "text/plain": [
       "   distribcell    sum(nuclide)       score      mean  std. dev.\n",
       "0            0  (U-235, U-238)  absorption  0.002801   0.000011\n",
       "1            0  (U-235, U-238)     fission  0.001479   0.000006\n",
       "2            1  (U-235, U-238)  absorption  0.002811   0.000010\n",
       "3            1  (U-235, U-238)     fission  0.001485   0.000006\n",
       "4            2  (U-235, U-238)  absorption  0.002829   0.000010\n",
       "5            2  (U-235, U-238)     fission  0.001497   0.000006\n",
       "6            3  (U-235, U-238)  absorption  0.002844   0.000010\n",
       "7            3  (U-235, U-238)     fission  0.001512   0.000006\n",
       "8            4  (U-235, U-238)  absorption  0.002853   0.000011\n",
       "9            4  (U-235, U-238)     fission  0.001518   0.000007"
      ]
     },
     "execution_count": 42,
     "metadata": {},
     "output_type": "execute_result"
    }
   ],
   "source": [
    "df = u235_plus_u238.get_pandas_dataframe()\n",
    "df.head(10)"
   ]
  },
  {
   "cell_type": "markdown",
   "metadata": {},
   "source": [
    "As we can see from the `DataFrame`, `Tally.summation(...)` propagates the uncertainties through the summation. Note that the standard deviation is a biased estimate since `Tally.summation(...)` only uses a first order estimate of the uncertainty of the sum of random variables.\n",
    "\n",
    "As we have shown, `Tally` \"summation\" returns a new `Tally` object which encapsulates a sum over the data of interest. The original `Tally` remains intact and the new `Tally` \"sum\" object supports the complete `Tally` API as does the original `Tally`. These two examples simply illustrate the basic concept of `Tally` \"summation\" - `Tally.summation(...)` method supports arbitrary summing over `Filter` bins and/or nuclides and/or scores simultaneously."
   ]
  },
  {
   "cell_type": "markdown",
   "metadata": {},
   "source": [
    "#### Tally Arithmetic"
   ]
  },
  {
   "cell_type": "markdown",
   "metadata": {},
   "source": [
    "In many data workflows, one may arithmetically combine multiple tallies. This can be labor intensive and prone to errors, especially if the uncertainties must be propagated through the calculation. In many cases, users develop a data processsing apparatus \"hard coded\" for their particular use case. To mitigate this hassle for our users, we have developed a general toolbox of data processing features collectively collectively as \"`Tally` arithmetic\".\n",
    "\n",
    "The OpenMC Python API allows multiple `Tally` objects to be direcly combined with each other using the basic binary operators for addition(\"+\"), subtraction (\"-\"), multiplication (\"\\*\") and division (\"/\"). In each case, the arithmetic operation is \"broacast\" across all `Filter` bins, nuclides and score bins in each of the `Tally` operands through a fast, vectorized NumPy array operation.\n",
    "\n",
    "As an example, we can divide the `therm_abs` and `tot_abs` variables to compute the resonance escape probability which is defined as: $$p=\\frac{\\langle\\Sigma_a\\phi\\rangle_T}{\\langle\\Sigma_a\\phi\\rangle}$$ where the subscript $T$ means thermal energies."
   ]
  },
  {
   "cell_type": "code",
   "execution_count": 43,
   "metadata": {
    "collapsed": false
   },
   "outputs": [
    {
     "data": {
      "text/html": [
       "<div>\n",
       "<table border=\"1\" class=\"dataframe\">\n",
       "  <thead>\n",
       "    <tr style=\"text-align: right;\">\n",
       "      <th></th>\n",
       "      <th>energy low [MeV]</th>\n",
       "      <th>energy high [MeV]</th>\n",
       "      <th>nuclide</th>\n",
       "      <th>score</th>\n",
       "      <th>mean</th>\n",
       "      <th>std. dev.</th>\n",
       "    </tr>\n",
       "  </thead>\n",
       "  <tbody>\n",
       "    <tr>\n",
       "      <th>0</th>\n",
       "      <td>0.0</td>\n",
       "      <td>6.250000e-07</td>\n",
       "      <td>total</td>\n",
       "      <td>absorption</td>\n",
       "      <td>0.721245</td>\n",
       "      <td>0.000403</td>\n",
       "    </tr>\n",
       "  </tbody>\n",
       "</table>\n",
       "</div>"
      ],
      "text/plain": [
       "   energy low [MeV]  energy high [MeV] nuclide       score     mean  std. dev.\n",
       "0          0.00e+00           6.25e-07   total  absorption 7.21e-01   4.03e-04"
      ]
     },
     "execution_count": 43,
     "metadata": {},
     "output_type": "execute_result"
    }
   ],
   "source": [
    "res_esc = therm_abs / tot_abs\n",
    "res_esc.get_pandas_dataframe()"
   ]
  },
  {
   "cell_type": "markdown",
   "metadata": {},
   "source": [
    "Based on this analysis, our PWR fuel assembly has a resonance escape probability of ~72%. `Tally` \"arithmetic\" returns a new `Tally` object which encapsulates the operation over the data from the two `Tally` operands. The original `Tally` operands remain intact and the new resultant `Tally` object supports the complete `Tally` API as did the original `Tally` operands. As was the case for `Tally` summation, `Tally` arithmetic propagates the uncertainties through the calculation such that we have a mean and a standard deviation for the combined `Tally` object."
   ]
  },
  {
   "cell_type": "markdown",
   "metadata": {},
   "source": [
    "As a second example, let's consider a situation where we want to leverage `Tally` arithmetic's vectorized data processing framework. We will compute the dividend between the U-235 fission and U-235 absorption from our `distribcell` `Tally` which we sliced into `u235_fission` and `u238_absorption`:"
   ]
  },
  {
   "cell_type": "code",
   "execution_count": 44,
   "metadata": {
    "collapsed": false
   },
   "outputs": [
    {
     "data": {
      "text/html": [
       "<div>\n",
       "<table border=\"1\" class=\"dataframe\">\n",
       "  <thead>\n",
       "    <tr style=\"text-align: right;\">\n",
       "      <th></th>\n",
       "      <th>distribcell</th>\n",
       "      <th>nuclide</th>\n",
       "      <th>score</th>\n",
       "      <th>mean</th>\n",
       "      <th>std. dev.</th>\n",
       "    </tr>\n",
       "  </thead>\n",
       "  <tbody>\n",
       "    <tr>\n",
       "      <th>0</th>\n",
       "      <td>0</td>\n",
       "      <td>(U-235 / U-238)</td>\n",
       "      <td>(fission / absorption)</td>\n",
       "      <td>1.196039</td>\n",
       "      <td>0.009563</td>\n",
       "    </tr>\n",
       "    <tr>\n",
       "      <th>1</th>\n",
       "      <td>1</td>\n",
       "      <td>(U-235 / U-238)</td>\n",
       "      <td>(fission / absorption)</td>\n",
       "      <td>1.197647</td>\n",
       "      <td>0.009356</td>\n",
       "    </tr>\n",
       "    <tr>\n",
       "      <th>2</th>\n",
       "      <td>2</td>\n",
       "      <td>(U-235 / U-238)</td>\n",
       "      <td>(fission / absorption)</td>\n",
       "      <td>1.205370</td>\n",
       "      <td>0.009320</td>\n",
       "    </tr>\n",
       "    <tr>\n",
       "      <th>3</th>\n",
       "      <td>3</td>\n",
       "      <td>(U-235 / U-238)</td>\n",
       "      <td>(fission / absorption)</td>\n",
       "      <td>1.221924</td>\n",
       "      <td>0.008785</td>\n",
       "    </tr>\n",
       "    <tr>\n",
       "      <th>4</th>\n",
       "      <td>4</td>\n",
       "      <td>(U-235 / U-238)</td>\n",
       "      <td>(fission / absorption)</td>\n",
       "      <td>1.223697</td>\n",
       "      <td>0.009550</td>\n",
       "    </tr>\n",
       "    <tr>\n",
       "      <th>5</th>\n",
       "      <td>5</td>\n",
       "      <td>(U-235 / U-238)</td>\n",
       "      <td>(fission / absorption)</td>\n",
       "      <td>1.225163</td>\n",
       "      <td>0.009648</td>\n",
       "    </tr>\n",
       "    <tr>\n",
       "      <th>6</th>\n",
       "      <td>6</td>\n",
       "      <td>(U-235 / U-238)</td>\n",
       "      <td>(fission / absorption)</td>\n",
       "      <td>1.232854</td>\n",
       "      <td>0.009465</td>\n",
       "    </tr>\n",
       "    <tr>\n",
       "      <th>7</th>\n",
       "      <td>7</td>\n",
       "      <td>(U-235 / U-238)</td>\n",
       "      <td>(fission / absorption)</td>\n",
       "      <td>1.235443</td>\n",
       "      <td>0.009288</td>\n",
       "    </tr>\n",
       "    <tr>\n",
       "      <th>8</th>\n",
       "      <td>8</td>\n",
       "      <td>(U-235 / U-238)</td>\n",
       "      <td>(fission / absorption)</td>\n",
       "      <td>1.238022</td>\n",
       "      <td>0.009046</td>\n",
       "    </tr>\n",
       "    <tr>\n",
       "      <th>9</th>\n",
       "      <td>9</td>\n",
       "      <td>(U-235 / U-238)</td>\n",
       "      <td>(fission / absorption)</td>\n",
       "      <td>1.233711</td>\n",
       "      <td>0.008467</td>\n",
       "    </tr>\n",
       "  </tbody>\n",
       "</table>\n",
       "</div>"
      ],
      "text/plain": [
       "   distribcell          nuclide                   score      mean  std. dev.\n",
       "0            0  (U-235 / U-238)  (fission / absorption)  1.196039   0.009563\n",
       "1            1  (U-235 / U-238)  (fission / absorption)  1.197647   0.009356\n",
       "2            2  (U-235 / U-238)  (fission / absorption)  1.205370   0.009320\n",
       "3            3  (U-235 / U-238)  (fission / absorption)  1.221924   0.008785\n",
       "4            4  (U-235 / U-238)  (fission / absorption)  1.223697   0.009550\n",
       "5            5  (U-235 / U-238)  (fission / absorption)  1.225163   0.009648\n",
       "6            6  (U-235 / U-238)  (fission / absorption)  1.232854   0.009465\n",
       "7            7  (U-235 / U-238)  (fission / absorption)  1.235443   0.009288\n",
       "8            8  (U-235 / U-238)  (fission / absorption)  1.238022   0.009046\n",
       "9            9  (U-235 / U-238)  (fission / absorption)  1.233711   0.008467"
      ]
     },
     "execution_count": 44,
     "metadata": {},
     "output_type": "execute_result"
    }
   ],
   "source": [
    "fiss_over_abs = u235_fission / u238_absorption\n",
    "df = fiss_over_abs.get_pandas_dataframe()\n",
    "df.head(10)"
   ]
  },
  {
   "cell_type": "markdown",
   "metadata": {},
   "source": [
    "We can easily view the distribution of the mean values in the Pandas `DataFrame` using the handy `plot(...)` method:"
   ]
  },
  {
   "cell_type": "code",
   "execution_count": 45,
   "metadata": {
    "collapsed": false
   },
   "outputs": [
    {
     "data": {
      "text/plain": [
       "<matplotlib.axes._subplots.AxesSubplot at 0x7ffb1b32c550>"
      ]
     },
     "execution_count": 45,
     "metadata": {},
     "output_type": "execute_result"
    },
    {
     "data": {
      "image/png": "[encoded data removed]",
      "text/plain": [
       "<matplotlib.figure.Figure at 0x7ffb1b340908>"
      ]
     },
     "metadata": {},
     "output_type": "display_data"
    }
   ],
   "source": [
    "df.plot(kind='scatter', x='distribcell', y='mean')"
   ]
  },
  {
   "cell_type": "markdown",
   "metadata": {},
   "source": [
    "As one might expect, there is a clear trend in the data indicative of the different spatial self-shielding effects for those pins in the center of the assembly adjacent to control rod guide tubes in contrast to those pins near the outer boundaries of the assembly.\n",
    "\n",
    "One common application of `Tally` arithmetic is the calculation of multi-group cross sections (MGXS) which we will explore in the final two examples. Our `StatePoint` includes `Tally` objects necessary to compute a total MGXS - in particular, we need estimates of the total reaction rate as well as the flux to compute the total MGXS. In the following cell we extract two `Tally` objects, each with the name `\"total mgxs\"` but with `\"total\"` and `\"flux\"` scores:"
   ]
  },
  {
   "cell_type": "code",
   "execution_count": 46,
   "metadata": {
    "collapsed": false
   },
   "outputs": [
    {
     "name": "stdout",
     "output_type": "stream",
     "text": [
      "Tally\n",
      "\tID             =\t10006\n",
      "\tName           =\ttotal mgxs\n",
      "\tFilters        =\t\n",
      "                \t\tcell\t[10000]\n",
      "                \t\tenergy\t[  0.00000000e+00   5.80000000e-08   1.40000000e-07   2.80000000e-07\n",
      "   6.25000000e-07   4.00000000e-06   5.53000000e-03   8.21000000e-01\n",
      "   2.00000000e+01]\n",
      "\tNuclides       =\ttotal \n",
      "\tScores         =\t['total']\n",
      "\tEstimator      =\ttracklength\n",
      " Tally\n",
      "\tID             =\t10005\n",
      "\tName           =\ttotal mgxs\n",
      "\tFilters        =\t\n",
      "                \t\tcell\t[10000]\n",
      "                \t\tenergy\t[  0.00000000e+00   5.80000000e-08   1.40000000e-07   2.80000000e-07\n",
      "   6.25000000e-07   4.00000000e-06   5.53000000e-03   8.21000000e-01\n",
      "   2.00000000e+01]\n",
      "\tNuclides       =\ttotal \n",
      "\tScores         =\t['flux']\n",
      "\tEstimator      =\ttracklength\n",
      "\n"
     ]
    }
   ],
   "source": [
    "total = sp.get_tally(name='total mgxs', scores=['total'])\n",
    "flux = sp.get_tally(name='total mgxs', scores=['flux'])\n",
    "print(total, flux)"
   ]
  },
  {
   "cell_type": "markdown",
   "metadata": {},
   "source": [
    "As we can see, these `Tally` objects are for the `Cell` with ID=10000 (the fuel) and have an `\"energy\"` `Filter` with 8 energy groups. We can use `Tally` arithmetic to divide the total reaction rate by the flux to compute the 8-group total MGXS for the fuel assembly's fuel pins:"
   ]
  },
  {
   "cell_type": "code",
   "execution_count": 47,
   "metadata": {
    "collapsed": false
   },
   "outputs": [
    {
     "data": {
      "text/html": [
       "<div>\n",
       "<table border=\"1\" class=\"dataframe\">\n",
       "  <thead>\n",
       "    <tr style=\"text-align: right;\">\n",
       "      <th></th>\n",
       "      <th>cell</th>\n",
       "      <th>energy low [MeV]</th>\n",
       "      <th>energy high [MeV]</th>\n",
       "      <th>nuclide</th>\n",
       "      <th>score</th>\n",
       "      <th>mean</th>\n",
       "      <th>std. dev.</th>\n",
       "    </tr>\n",
       "  </thead>\n",
       "  <tbody>\n",
       "    <tr>\n",
       "      <th>0</th>\n",
       "      <td>10000</td>\n",
       "      <td>0.000000e+00</td>\n",
       "      <td>5.800000e-08</td>\n",
       "      <td>total</td>\n",
       "      <td>(total / flux)</td>\n",
       "      <td>0.720452</td>\n",
       "      <td>0.000549</td>\n",
       "    </tr>\n",
       "    <tr>\n",
       "      <th>1</th>\n",
       "      <td>10000</td>\n",
       "      <td>5.800000e-08</td>\n",
       "      <td>1.400000e-07</td>\n",
       "      <td>total</td>\n",
       "      <td>(total / flux)</td>\n",
       "      <td>0.550867</td>\n",
       "      <td>0.000492</td>\n",
       "    </tr>\n",
       "    <tr>\n",
       "      <th>2</th>\n",
       "      <td>10000</td>\n",
       "      <td>1.400000e-07</td>\n",
       "      <td>2.800000e-07</td>\n",
       "      <td>total</td>\n",
       "      <td>(total / flux)</td>\n",
       "      <td>0.499248</td>\n",
       "      <td>0.000616</td>\n",
       "    </tr>\n",
       "    <tr>\n",
       "      <th>3</th>\n",
       "      <td>10000</td>\n",
       "      <td>2.800000e-07</td>\n",
       "      <td>6.250000e-07</td>\n",
       "      <td>total</td>\n",
       "      <td>(total / flux)</td>\n",
       "      <td>0.460086</td>\n",
       "      <td>0.000494</td>\n",
       "    </tr>\n",
       "    <tr>\n",
       "      <th>4</th>\n",
       "      <td>10000</td>\n",
       "      <td>6.250000e-07</td>\n",
       "      <td>4.000000e-06</td>\n",
       "      <td>total</td>\n",
       "      <td>(total / flux)</td>\n",
       "      <td>0.413687</td>\n",
       "      <td>0.000346</td>\n",
       "    </tr>\n",
       "    <tr>\n",
       "      <th>5</th>\n",
       "      <td>10000</td>\n",
       "      <td>4.000000e-06</td>\n",
       "      <td>5.530000e-03</td>\n",
       "      <td>total</td>\n",
       "      <td>(total / flux)</td>\n",
       "      <td>0.552269</td>\n",
       "      <td>0.000238</td>\n",
       "    </tr>\n",
       "    <tr>\n",
       "      <th>6</th>\n",
       "      <td>10000</td>\n",
       "      <td>5.530000e-03</td>\n",
       "      <td>8.210000e-01</td>\n",
       "      <td>total</td>\n",
       "      <td>(total / flux)</td>\n",
       "      <td>0.430398</td>\n",
       "      <td>0.000162</td>\n",
       "    </tr>\n",
       "    <tr>\n",
       "      <th>7</th>\n",
       "      <td>10000</td>\n",
       "      <td>8.210000e-01</td>\n",
       "      <td>2.000000e+01</td>\n",
       "      <td>total</td>\n",
       "      <td>(total / flux)</td>\n",
       "      <td>0.274478</td>\n",
       "      <td>0.000143</td>\n",
       "    </tr>\n",
       "  </tbody>\n",
       "</table>\n",
       "</div>"
      ],
      "text/plain": [
       "    cell  energy low [MeV]  energy high [MeV] nuclide           score  \\\n",
       "0  10000          0.00e+00           5.80e-08   total  (total / flux)   \n",
       "1  10000          5.80e-08           1.40e-07   total  (total / flux)   \n",
       "2  10000          1.40e-07           2.80e-07   total  (total / flux)   \n",
       "3  10000          2.80e-07           6.25e-07   total  (total / flux)   \n",
       "4  10000          6.25e-07           4.00e-06   total  (total / flux)   \n",
       "5  10000          4.00e-06           5.53e-03   total  (total / flux)   \n",
       "6  10000          5.53e-03           8.21e-01   total  (total / flux)   \n",
       "7  10000          8.21e-01           2.00e+01   total  (total / flux)   \n",
       "\n",
       "      mean  std. dev.  \n",
       "0 7.20e-01   5.49e-04  \n",
       "1 5.51e-01   4.92e-04  \n",
       "2 4.99e-01   6.16e-04  \n",
       "3 4.60e-01   4.94e-04  \n",
       "4 4.14e-01   3.46e-04  \n",
       "5 5.52e-01   2.38e-04  \n",
       "6 4.30e-01   1.62e-04  \n",
       "7 2.74e-01   1.43e-04  "
      ]
     },
     "execution_count": 47,
     "metadata": {},
     "output_type": "execute_result"
    }
   ],
   "source": [
    "total_mgxs = total / flux\n",
    "total_mgxs.get_pandas_dataframe()"
   ]
  },
  {
   "cell_type": "markdown",
   "metadata": {},
   "source": [
    "Here we have an 8-group total MGXS computed across all of the fuel pins in the fuel assembly with the propagated uncertainties in each group.\n",
    "\n",
    "Let's conclude by using `Tally` arithmetic to compute an 8-group scattering matrix. As before, we will extract two `Tally` objects, each with the name `\"scatter matrix\"` but with `\"scatter\"` and `\"flux\"` scores:"
   ]
  },
  {
   "cell_type": "code",
   "execution_count": 48,
   "metadata": {
    "collapsed": false
   },
   "outputs": [
    {
     "name": "stdout",
     "output_type": "stream",
     "text": [
      "Tally\n",
      "\tID             =\t10008\n",
      "\tName           =\tscatter matrix\n",
      "\tFilters        =\t\n",
      "                \t\tcell\t[10005]\n",
      "                \t\tenergy\t[  0.00000000e+00   5.80000000e-08   1.40000000e-07   2.80000000e-07\n",
      "   6.25000000e-07   4.00000000e-06   5.53000000e-03   8.21000000e-01\n",
      "   2.00000000e+01]\n",
      "                \t\tenergyout\t[  0.00000000e+00   5.80000000e-08   1.40000000e-07   2.80000000e-07\n",
      "   6.25000000e-07   4.00000000e-06   5.53000000e-03   8.21000000e-01\n",
      "   2.00000000e+01]\n",
      "\tNuclides       =\tH-1 O-16 B-10 \n",
      "\tScores         =\t['scatter']\n",
      "\tEstimator      =\tanalog\n",
      "\n",
      "Tally\n",
      "\tID             =\t10007\n",
      "\tName           =\tscatter matrix\n",
      "\tFilters        =\t\n",
      "                \t\tcell\t[10005]\n",
      "                \t\tenergy\t[  0.00000000e+00   5.80000000e-08   1.40000000e-07   2.80000000e-07\n",
      "   6.25000000e-07   4.00000000e-06   5.53000000e-03   8.21000000e-01\n",
      "   2.00000000e+01]\n",
      "\tNuclides       =\ttotal \n",
      "\tScores         =\t['flux']\n",
      "\tEstimator      =\tanalog\n",
      "\n"
     ]
    }
   ],
   "source": [
    "scatter = sp.get_tally(name='scatter matrix', scores=['scatter'])\n",
    "flux = sp.get_tally(name='scatter matrix', scores=['flux'])\n",
    "print(scatter)\n",
    "print(flux)"
   ]
  },
  {
   "cell_type": "markdown",
   "metadata": {
    "collapsed": true
   },
   "source": [
    "As we can see, these `Tally` objects are for the `Cell` with ID=10003 (the moderator) and have an `\"energy\"` `Filter` with 8 energy groups. In addition, the `scatter` `Tally` has an `\"energyout\"` `Filter` with 8 energy groups, and includes the reaction rates for all nuclides in the moderator.\n",
    "\n",
    "We can use `Tally` arithmetic to divide the scattering reaction rates by the flux to compute the 8-group scattering matrix MGXS for the fuel assembly's moderator:"
   ]
  },
  {
   "cell_type": "code",
   "execution_count": 49,
   "metadata": {
    "collapsed": false
   },
   "outputs": [
    {
     "data": {
      "text/html": [
       "<div>\n",
       "<table border=\"1\" class=\"dataframe\">\n",
       "  <thead>\n",
       "    <tr style=\"text-align: right;\">\n",
       "      <th></th>\n",
       "      <th>cell</th>\n",
       "      <th>energy low [MeV]</th>\n",
       "      <th>energy high [MeV]</th>\n",
       "      <th>energyout low [MeV]</th>\n",
       "      <th>energyout high [MeV]</th>\n",
       "      <th>nuclide</th>\n",
       "      <th>score</th>\n",
       "      <th>mean</th>\n",
       "      <th>std. dev.</th>\n",
       "    </tr>\n",
       "  </thead>\n",
       "  <tbody>\n",
       "    <tr>\n",
       "      <th>0</th>\n",
       "      <td>10005</td>\n",
       "      <td>0.0</td>\n",
       "      <td>5.800000e-08</td>\n",
       "      <td>0.000000e+00</td>\n",
       "      <td>5.800000e-08</td>\n",
       "      <td>(H-1 / total)</td>\n",
       "      <td>(scatter / flux)</td>\n",
       "      <td>1.272247e+00</td>\n",
       "      <td>2.000308e-03</td>\n",
       "    </tr>\n",
       "    <tr>\n",
       "      <th>1</th>\n",
       "      <td>10005</td>\n",
       "      <td>0.0</td>\n",
       "      <td>5.800000e-08</td>\n",
       "      <td>0.000000e+00</td>\n",
       "      <td>5.800000e-08</td>\n",
       "      <td>(O-16 / total)</td>\n",
       "      <td>(scatter / flux)</td>\n",
       "      <td>8.983573e-02</td>\n",
       "      <td>2.447076e-04</td>\n",
       "    </tr>\n",
       "    <tr>\n",
       "      <th>2</th>\n",
       "      <td>10005</td>\n",
       "      <td>0.0</td>\n",
       "      <td>5.800000e-08</td>\n",
       "      <td>0.000000e+00</td>\n",
       "      <td>5.800000e-08</td>\n",
       "      <td>(B-10 / total)</td>\n",
       "      <td>(scatter / flux)</td>\n",
       "      <td>1.443601e-05</td>\n",
       "      <td>2.523275e-06</td>\n",
       "    </tr>\n",
       "    <tr>\n",
       "      <th>3</th>\n",
       "      <td>10005</td>\n",
       "      <td>0.0</td>\n",
       "      <td>5.800000e-08</td>\n",
       "      <td>5.800000e-08</td>\n",
       "      <td>1.400000e-07</td>\n",
       "      <td>(H-1 / total)</td>\n",
       "      <td>(scatter / flux)</td>\n",
       "      <td>2.701341e-01</td>\n",
       "      <td>4.768948e-04</td>\n",
       "    </tr>\n",
       "    <tr>\n",
       "      <th>4</th>\n",
       "      <td>10005</td>\n",
       "      <td>0.0</td>\n",
       "      <td>5.800000e-08</td>\n",
       "      <td>5.800000e-08</td>\n",
       "      <td>1.400000e-07</td>\n",
       "      <td>(O-16 / total)</td>\n",
       "      <td>(scatter / flux)</td>\n",
       "      <td>9.635818e-03</td>\n",
       "      <td>6.510566e-05</td>\n",
       "    </tr>\n",
       "    <tr>\n",
       "      <th>5</th>\n",
       "      <td>10005</td>\n",
       "      <td>0.0</td>\n",
       "      <td>5.800000e-08</td>\n",
       "      <td>5.800000e-08</td>\n",
       "      <td>1.400000e-07</td>\n",
       "      <td>(B-10 / total)</td>\n",
       "      <td>(scatter / flux)</td>\n",
       "      <td>8.749097e-07</td>\n",
       "      <td>6.151698e-07</td>\n",
       "    </tr>\n",
       "    <tr>\n",
       "      <th>6</th>\n",
       "      <td>10005</td>\n",
       "      <td>0.0</td>\n",
       "      <td>5.800000e-08</td>\n",
       "      <td>1.400000e-07</td>\n",
       "      <td>2.800000e-07</td>\n",
       "      <td>(H-1 / total)</td>\n",
       "      <td>(scatter / flux)</td>\n",
       "      <td>1.087819e-02</td>\n",
       "      <td>6.970680e-05</td>\n",
       "    </tr>\n",
       "    <tr>\n",
       "      <th>7</th>\n",
       "      <td>10005</td>\n",
       "      <td>0.0</td>\n",
       "      <td>5.800000e-08</td>\n",
       "      <td>1.400000e-07</td>\n",
       "      <td>2.800000e-07</td>\n",
       "      <td>(O-16 / total)</td>\n",
       "      <td>(scatter / flux)</td>\n",
       "      <td>1.006146e-05</td>\n",
       "      <td>2.115336e-06</td>\n",
       "    </tr>\n",
       "    <tr>\n",
       "      <th>8</th>\n",
       "      <td>10005</td>\n",
       "      <td>0.0</td>\n",
       "      <td>5.800000e-08</td>\n",
       "      <td>1.400000e-07</td>\n",
       "      <td>2.800000e-07</td>\n",
       "      <td>(B-10 / total)</td>\n",
       "      <td>(scatter / flux)</td>\n",
       "      <td>0.000000e+00</td>\n",
       "      <td>0.000000e+00</td>\n",
       "    </tr>\n",
       "    <tr>\n",
       "      <th>9</th>\n",
       "      <td>10005</td>\n",
       "      <td>0.0</td>\n",
       "      <td>5.800000e-08</td>\n",
       "      <td>2.800000e-07</td>\n",
       "      <td>6.250000e-07</td>\n",
       "      <td>(H-1 / total)</td>\n",
       "      <td>(scatter / flux)</td>\n",
       "      <td>3.849603e-05</td>\n",
       "      <td>4.218585e-06</td>\n",
       "    </tr>\n",
       "    <tr>\n",
       "      <th>10</th>\n",
       "      <td>10005</td>\n",
       "      <td>0.0</td>\n",
       "      <td>5.800000e-08</td>\n",
       "      <td>2.800000e-07</td>\n",
       "      <td>6.250000e-07</td>\n",
       "      <td>(O-16 / total)</td>\n",
       "      <td>(scatter / flux)</td>\n",
       "      <td>0.000000e+00</td>\n",
       "      <td>0.000000e+00</td>\n",
       "    </tr>\n",
       "    <tr>\n",
       "      <th>11</th>\n",
       "      <td>10005</td>\n",
       "      <td>0.0</td>\n",
       "      <td>5.800000e-08</td>\n",
       "      <td>2.800000e-07</td>\n",
       "      <td>6.250000e-07</td>\n",
       "      <td>(B-10 / total)</td>\n",
       "      <td>(scatter / flux)</td>\n",
       "      <td>0.000000e+00</td>\n",
       "      <td>0.000000e+00</td>\n",
       "    </tr>\n",
       "    <tr>\n",
       "      <th>12</th>\n",
       "      <td>10005</td>\n",
       "      <td>0.0</td>\n",
       "      <td>5.800000e-08</td>\n",
       "      <td>6.250000e-07</td>\n",
       "      <td>4.000000e-06</td>\n",
       "      <td>(H-1 / total)</td>\n",
       "      <td>(scatter / flux)</td>\n",
       "      <td>0.000000e+00</td>\n",
       "      <td>0.000000e+00</td>\n",
       "    </tr>\n",
       "    <tr>\n",
       "      <th>13</th>\n",
       "      <td>10005</td>\n",
       "      <td>0.0</td>\n",
       "      <td>5.800000e-08</td>\n",
       "      <td>6.250000e-07</td>\n",
       "      <td>4.000000e-06</td>\n",
       "      <td>(O-16 / total)</td>\n",
       "      <td>(scatter / flux)</td>\n",
       "      <td>0.000000e+00</td>\n",
       "      <td>0.000000e+00</td>\n",
       "    </tr>\n",
       "    <tr>\n",
       "      <th>14</th>\n",
       "      <td>10005</td>\n",
       "      <td>0.0</td>\n",
       "      <td>5.800000e-08</td>\n",
       "      <td>6.250000e-07</td>\n",
       "      <td>4.000000e-06</td>\n",
       "      <td>(B-10 / total)</td>\n",
       "      <td>(scatter / flux)</td>\n",
       "      <td>0.000000e+00</td>\n",
       "      <td>0.000000e+00</td>\n",
       "    </tr>\n",
       "    <tr>\n",
       "      <th>15</th>\n",
       "      <td>10005</td>\n",
       "      <td>0.0</td>\n",
       "      <td>5.800000e-08</td>\n",
       "      <td>4.000000e-06</td>\n",
       "      <td>5.530000e-03</td>\n",
       "      <td>(H-1 / total)</td>\n",
       "      <td>(scatter / flux)</td>\n",
       "      <td>0.000000e+00</td>\n",
       "      <td>0.000000e+00</td>\n",
       "    </tr>\n",
       "    <tr>\n",
       "      <th>16</th>\n",
       "      <td>10005</td>\n",
       "      <td>0.0</td>\n",
       "      <td>5.800000e-08</td>\n",
       "      <td>4.000000e-06</td>\n",
       "      <td>5.530000e-03</td>\n",
       "      <td>(O-16 / total)</td>\n",
       "      <td>(scatter / flux)</td>\n",
       "      <td>0.000000e+00</td>\n",
       "      <td>0.000000e+00</td>\n",
       "    </tr>\n",
       "    <tr>\n",
       "      <th>17</th>\n",
       "      <td>10005</td>\n",
       "      <td>0.0</td>\n",
       "      <td>5.800000e-08</td>\n",
       "      <td>4.000000e-06</td>\n",
       "      <td>5.530000e-03</td>\n",
       "      <td>(B-10 / total)</td>\n",
       "      <td>(scatter / flux)</td>\n",
       "      <td>0.000000e+00</td>\n",
       "      <td>0.000000e+00</td>\n",
       "    </tr>\n",
       "    <tr>\n",
       "      <th>18</th>\n",
       "      <td>10005</td>\n",
       "      <td>0.0</td>\n",
       "      <td>5.800000e-08</td>\n",
       "      <td>5.530000e-03</td>\n",
       "      <td>8.210000e-01</td>\n",
       "      <td>(H-1 / total)</td>\n",
       "      <td>(scatter / flux)</td>\n",
       "      <td>0.000000e+00</td>\n",
       "      <td>0.000000e+00</td>\n",
       "    </tr>\n",
       "    <tr>\n",
       "      <th>19</th>\n",
       "      <td>10005</td>\n",
       "      <td>0.0</td>\n",
       "      <td>5.800000e-08</td>\n",
       "      <td>5.530000e-03</td>\n",
       "      <td>8.210000e-01</td>\n",
       "      <td>(O-16 / total)</td>\n",
       "      <td>(scatter / flux)</td>\n",
       "      <td>0.000000e+00</td>\n",
       "      <td>0.000000e+00</td>\n",
       "    </tr>\n",
       "  </tbody>\n",
       "</table>\n",
       "</div>"
      ],
      "text/plain": [
       "     cell  energy low [MeV]  energy high [MeV]  energyout low [MeV]  \\\n",
       "0   10005               0.0       5.800000e-08         0.000000e+00   \n",
       "1   10005               0.0       5.800000e-08         0.000000e+00   \n",
       "2   10005               0.0       5.800000e-08         0.000000e+00   \n",
       "3   10005               0.0       5.800000e-08         5.800000e-08   \n",
       "4   10005               0.0       5.800000e-08         5.800000e-08   \n",
       "5   10005               0.0       5.800000e-08         5.800000e-08   \n",
       "6   10005               0.0       5.800000e-08         1.400000e-07   \n",
       "7   10005               0.0       5.800000e-08         1.400000e-07   \n",
       "8   10005               0.0       5.800000e-08         1.400000e-07   \n",
       "9   10005               0.0       5.800000e-08         2.800000e-07   \n",
       "10  10005               0.0       5.800000e-08         2.800000e-07   \n",
       "11  10005               0.0       5.800000e-08         2.800000e-07   \n",
       "12  10005               0.0       5.800000e-08         6.250000e-07   \n",
       "13  10005               0.0       5.800000e-08         6.250000e-07   \n",
       "14  10005               0.0       5.800000e-08         6.250000e-07   \n",
       "15  10005               0.0       5.800000e-08         4.000000e-06   \n",
       "16  10005               0.0       5.800000e-08         4.000000e-06   \n",
       "17  10005               0.0       5.800000e-08         4.000000e-06   \n",
       "18  10005               0.0       5.800000e-08         5.530000e-03   \n",
       "19  10005               0.0       5.800000e-08         5.530000e-03   \n",
       "\n",
       "    energyout high [MeV]         nuclide             score          mean  \\\n",
       "0           5.800000e-08   (H-1 / total)  (scatter / flux)  1.272247e+00   \n",
       "1           5.800000e-08  (O-16 / total)  (scatter / flux)  8.983573e-02   \n",
       "2           5.800000e-08  (B-10 / total)  (scatter / flux)  1.443601e-05   \n",
       "3           1.400000e-07   (H-1 / total)  (scatter / flux)  2.701341e-01   \n",
       "4           1.400000e-07  (O-16 / total)  (scatter / flux)  9.635818e-03   \n",
       "5           1.400000e-07  (B-10 / total)  (scatter / flux)  8.749097e-07   \n",
       "6           2.800000e-07   (H-1 / total)  (scatter / flux)  1.087819e-02   \n",
       "7           2.800000e-07  (O-16 / total)  (scatter / flux)  1.006146e-05   \n",
       "8           2.800000e-07  (B-10 / total)  (scatter / flux)  0.000000e+00   \n",
       "9           6.250000e-07   (H-1 / total)  (scatter / flux)  3.849603e-05   \n",
       "10          6.250000e-07  (O-16 / total)  (scatter / flux)  0.000000e+00   \n",
       "11          6.250000e-07  (B-10 / total)  (scatter / flux)  0.000000e+00   \n",
       "12          4.000000e-06   (H-1 / total)  (scatter / flux)  0.000000e+00   \n",
       "13          4.000000e-06  (O-16 / total)  (scatter / flux)  0.000000e+00   \n",
       "14          4.000000e-06  (B-10 / total)  (scatter / flux)  0.000000e+00   \n",
       "15          5.530000e-03   (H-1 / total)  (scatter / flux)  0.000000e+00   \n",
       "16          5.530000e-03  (O-16 / total)  (scatter / flux)  0.000000e+00   \n",
       "17          5.530000e-03  (B-10 / total)  (scatter / flux)  0.000000e+00   \n",
       "18          8.210000e-01   (H-1 / total)  (scatter / flux)  0.000000e+00   \n",
       "19          8.210000e-01  (O-16 / total)  (scatter / flux)  0.000000e+00   \n",
       "\n",
       "       std. dev.  \n",
       "0   2.000308e-03  \n",
       "1   2.447076e-04  \n",
       "2   2.523275e-06  \n",
       "3   4.768948e-04  \n",
       "4   6.510566e-05  \n",
       "5   6.151698e-07  \n",
       "6   6.970680e-05  \n",
       "7   2.115336e-06  \n",
       "8   0.000000e+00  \n",
       "9   4.218585e-06  \n",
       "10  0.000000e+00  \n",
       "11  0.000000e+00  \n",
       "12  0.000000e+00  \n",
       "13  0.000000e+00  \n",
       "14  0.000000e+00  \n",
       "15  0.000000e+00  \n",
       "16  0.000000e+00  \n",
       "17  0.000000e+00  \n",
       "18  0.000000e+00  \n",
       "19  0.000000e+00  "
      ]
     },
     "execution_count": 49,
     "metadata": {},
     "output_type": "execute_result"
    }
   ],
   "source": [
    "# Compute scattering matrix MGXS\n",
    "scatter_matrix = scatter / flux\n",
    "df = scatter_matrix.get_pandas_dataframe()\n",
    "df.head(20)"
   ]
  },
  {
   "cell_type": "markdown",
   "metadata": {},
   "source": [
    "As we can see `Tally` arithmetic performs uncertainty propragation when computing each group-to-group constant for each nuclide. One should note that OpenMC includes a customized [`openmc.mgxs`](http://openmc.readthedocs.io/en/latest/pythonapi/index.html#openmc-mgxs-multi-group-cross-section-generation) Python module purpose-built for multi-group cross section generation using `Tally` arithmetic."
   ]
  }
 ],
 "metadata": {
  "kernelspec": {
   "display_name": "Python 3",
   "language": "python",
   "name": "python3"
  },
  "language_info": {
   "codemirror_mode": {
    "name": "ipython",
    "version": 3
   },
   "file_extension": ".py",
   "mimetype": "text/x-python",
   "name": "python",
   "nbconvert_exporter": "python",
   "pygments_lexer": "ipython3",
   "version": "3.5.1"
  }
 },
 "nbformat": 4,
 "nbformat_minor": 0
}

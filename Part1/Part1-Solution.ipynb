{
 "cells": [
  {
   "cell_type": "code",
   "execution_count": 1,
   "metadata": {
    "collapsed": false
   },
   "outputs": [],
   "source": [
    "import openmc"
   ]
  },
  {
   "cell_type": "markdown",
   "metadata": {},
   "source": [
    "In this segment, we will go through the basic features of the Python API for constructing input files and running OpenMC. We highly recommend having a copy of the [Python API reference documentation](http://openmc.readthedocs.org/en/latest/pythonapi/index.html) open in another browser tab that you can refer to. Also remember that within a notebook, you can press `Shift+Tab` with the cursor placed over a function, class, or method to see its documentation."
   ]
  },
  {
   "cell_type": "markdown",
   "metadata": {},
   "source": [
    "## Defining Materials\n",
    "\n",
    "First we need to create any nuclides/elements that will appear in materials. Each one has a specified cross section identifier which is associated with a temperature."
   ]
  },
  {
   "cell_type": "code",
   "execution_count": 2,
   "metadata": {
    "collapsed": true
   },
   "outputs": [],
   "source": [
    "u235 = openmc.Nuclide('U-235', '71c')\n",
    "u238 = openmc.Nuclide('U-238', '71c')\n",
    "o16 = openmc.Nuclide('O-16', '71c')\n",
    "zr = openmc.Element('Zr', '71c')\n",
    "h1 = openmc.Nuclide('H-1', '71c')"
   ]
  },
  {
   "cell_type": "markdown",
   "metadata": {},
   "source": [
    "Now we can create `Material`s using the nuclides we created."
   ]
  },
  {
   "cell_type": "code",
   "execution_count": 3,
   "metadata": {
    "collapsed": false
   },
   "outputs": [],
   "source": [
    "uo2 = openmc.Material(1, \"uo2\")\n",
    "uo2.add_nuclide(u235, 0.02115, 'wo')\n",
    "uo2.add_nuclide(u238, 0.86032, 'wo')\n",
    "uo2.add_nuclide(o16, 0.11852, 'wo')\n",
    "uo2.set_density('g/cm3', 10.3)\n",
    "\n",
    "zirconium = openmc.Material(2, \"zirconium\")\n",
    "zirconium.add_element(zr, 1.0)\n",
    "zirconium.set_density('g/cm3', 6.55)\n",
    "\n",
    "water = openmc.Material(3, \"h2o\")\n",
    "water.add_nuclide(h1, 2.0)\n",
    "water.add_nuclide(o16, 1.0)\n",
    "water.set_density('g/cm3', 0.701)\n",
    "water.add_s_alpha_beta('hh2o', '71t')"
   ]
  },
  {
   "cell_type": "markdown",
   "metadata": {},
   "source": [
    "To actually create a materials.xml file, we need to instantiate a `Materials` collection and register our materials with it."
   ]
  },
  {
   "cell_type": "code",
   "execution_count": 4,
   "metadata": {
    "collapsed": false
   },
   "outputs": [
    {
     "name": "stdout",
     "output_type": "stream",
     "text": [
      "<?xml version='1.0' encoding='utf-8'?>\r\n",
      "<materials>\r\n",
      "    <material id=\"1\" name=\"uo2\">\r\n",
      "        <density units=\"g/cm3\" value=\"10.3\" />\r\n",
      "        <nuclide name=\"U-235\" wo=\"0.02115\" xs=\"71c\" />\r\n",
      "        <nuclide name=\"U-238\" wo=\"0.86032\" xs=\"71c\" />\r\n",
      "        <nuclide name=\"O-16\" wo=\"0.11852\" xs=\"71c\" />\r\n",
      "    </material>\r\n",
      "    <material id=\"2\" name=\"zirconium\">\r\n",
      "        <density units=\"g/cm3\" value=\"6.55\" />\r\n",
      "        <element ao=\"1.0\" name=\"Zr\" xs=\"71c\" />\r\n",
      "    </material>\r\n",
      "    <material id=\"3\" name=\"h2o\">\r\n",
      "        <density units=\"g/cm3\" value=\"0.701\" />\r\n",
      "        <nuclide ao=\"2.0\" name=\"H-1\" xs=\"71c\" />\r\n",
      "        <nuclide ao=\"1.0\" name=\"O-16\" xs=\"71c\" />\r\n",
      "        <sab name=\"hh2o\" xs=\"71t\" />\r\n",
      "    </material>\r\n",
      "</materials>\r\n"
     ]
    }
   ],
   "source": [
    "mf = openmc.Materials((uo2, zirconium, water))\n",
    "mf.export_to_xml()\n",
    "!cat materials.xml"
   ]
  },
  {
   "cell_type": "markdown",
   "metadata": {},
   "source": [
    "## Defining Geometry and Assigning Materials\n",
    "\n",
    "We start by defining the cylindrical and planar surfaces that we need to create the model."
   ]
  },
  {
   "cell_type": "code",
   "execution_count": 5,
   "metadata": {
    "collapsed": true
   },
   "outputs": [],
   "source": [
    "fuel_or = openmc.ZCylinder(R=0.39218)\n",
    "clad_ir = openmc.ZCylinder(R=0.40005)\n",
    "clad_or = openmc.ZCylinder(R=0.45720)\n",
    "\n",
    "pitch = 1.25984\n",
    "left = openmc.XPlane(x0=-pitch/2, boundary_type='reflective')\n",
    "right = openmc.XPlane(x0=pitch/2, boundary_type='reflective')\n",
    "bottom = openmc.YPlane(y0=-pitch/2, boundary_type='reflective')\n",
    "top = openmc.YPlane(y0=pitch/2, boundary_type='reflective')"
   ]
  },
  {
   "cell_type": "markdown",
   "metadata": {},
   "source": [
    "With the surfaces created, we can now take advantage of the built-in operators on surfaces to create regions. The unary `-` and `+` operators correspond to the negative and positive half-spaces of a surface respectively. These half-spaces can then be combined using `&` (intersection), `|` (union), and `~` (complement)."
   ]
  },
  {
   "cell_type": "code",
   "execution_count": 6,
   "metadata": {
    "collapsed": false
   },
   "outputs": [],
   "source": [
    "fuel_region = -fuel_or\n",
    "gap_region = +fuel_or & -clad_ir\n",
    "clad_region = +clad_ir & -clad_or\n",
    "water_region = +left & -right & +bottom & -top & +clad_or"
   ]
  },
  {
   "cell_type": "markdown",
   "metadata": {},
   "source": [
    "Each cell that we create has to a physical region and an assigned fill (material, universe, or lattice) which is placed in the region."
   ]
  },
  {
   "cell_type": "code",
   "execution_count": 7,
   "metadata": {
    "collapsed": true
   },
   "outputs": [],
   "source": [
    "fuel = openmc.Cell(1, 'fuel')\n",
    "fuel.fill = uo2\n",
    "fuel.region = fuel_region\n",
    "\n",
    "gap = openmc.Cell(2, 'air gap')\n",
    "gap.fill = 'void'\n",
    "gap.region = gap_region\n",
    "\n",
    "clad = openmc.Cell(3, 'clad')\n",
    "clad.fill = zirconium\n",
    "clad.region = clad_region\n",
    "\n",
    "moderator = openmc.Cell(4, 'moderator')\n",
    "moderator.fill = water\n",
    "moderator.region = water_region"
   ]
  },
  {
   "cell_type": "markdown",
   "metadata": {},
   "source": [
    "Finally, there is some boilerplate code that we need to assign the cells we created to a universe and tell OpenMC that this universe is the \"root\" universe."
   ]
  },
  {
   "cell_type": "code",
   "execution_count": 8,
   "metadata": {
    "collapsed": false
   },
   "outputs": [
    {
     "name": "stdout",
     "output_type": "stream",
     "text": [
      "<?xml version='1.0' encoding='utf-8'?>\r\n",
      "<geometry>\r\n",
      "    <cell id=\"1\" material=\"1\" name=\"fuel\" region=\"-10000\" universe=\"0\" />\r\n",
      "    <cell id=\"2\" material=\"void\" name=\"air gap\" region=\"(10000 -10001)\" universe=\"0\" />\r\n",
      "    <cell id=\"3\" material=\"2\" name=\"clad\" region=\"(10001 -10002)\" universe=\"0\" />\r\n",
      "    <cell id=\"4\" material=\"3\" name=\"moderator\" region=\"((((10003 -10004) 10005) -10006) 10002)\" universe=\"0\" />\r\n",
      "    <surface coeffs=\"0.0 0.0 0.39218\" id=\"10000\" type=\"z-cylinder\" />\r\n",
      "    <surface coeffs=\"0.0 0.0 0.40005\" id=\"10001\" type=\"z-cylinder\" />\r\n",
      "    <surface coeffs=\"0.0 0.0 0.4572\" id=\"10002\" type=\"z-cylinder\" />\r\n",
      "    <surface boundary=\"reflective\" coeffs=\"-0.62992\" id=\"10003\" type=\"x-plane\" />\r\n",
      "    <surface boundary=\"reflective\" coeffs=\"0.62992\" id=\"10004\" type=\"x-plane\" />\r\n",
      "    <surface boundary=\"reflective\" coeffs=\"-0.62992\" id=\"10005\" type=\"y-plane\" />\r\n",
      "    <surface boundary=\"reflective\" coeffs=\"0.62992\" id=\"10006\" type=\"y-plane\" />\r\n",
      "</geometry>\r\n"
     ]
    }
   ],
   "source": [
    "root = openmc.Universe(0)\n",
    "root.add_cells((fuel, gap, clad, moderator))\n",
    "\n",
    "g = openmc.Geometry()\n",
    "g.root_universe = root\n",
    "g.export_to_xml()\n",
    "!cat geometry.xml"
   ]
  },
  {
   "cell_type": "markdown",
   "metadata": {},
   "source": [
    "## Starting source and settings\n",
    "\n",
    "The Python API has a module ``openmc.stats`` with various univariate and multivariate probability distributions. We can use these distributions to create a starting source using the ``openmc.Source`` object."
   ]
  },
  {
   "cell_type": "code",
   "execution_count": 9,
   "metadata": {
    "collapsed": true
   },
   "outputs": [],
   "source": [
    "point = openmc.stats.Point((0,0,0))\n",
    "src = openmc.Source(space=point)"
   ]
  },
  {
   "cell_type": "markdown",
   "metadata": {},
   "source": [
    "Now let's create a `Settings` object and give it the source we created along with specifying how many batches and particles we want to run."
   ]
  },
  {
   "cell_type": "code",
   "execution_count": 10,
   "metadata": {
    "collapsed": true
   },
   "outputs": [],
   "source": [
    "settings = openmc.Settings()\n",
    "settings.source = src\n",
    "settings.batches = 100\n",
    "settings.inactive = 10\n",
    "settings.particles = 1000"
   ]
  },
  {
   "cell_type": "code",
   "execution_count": 11,
   "metadata": {
    "collapsed": false
   },
   "outputs": [
    {
     "name": "stdout",
     "output_type": "stream",
     "text": [
      "<?xml version='1.0' encoding='utf-8'?>\r\n",
      "<settings>\r\n",
      "    <eigenvalue>\r\n",
      "        <particles>1000</particles>\r\n",
      "        <batches>100</batches>\r\n",
      "        <inactive>10</inactive>\r\n",
      "    </eigenvalue>\r\n",
      "    <source strength=\"1.0\">\r\n",
      "        <space type=\"point\">\r\n",
      "            <parameters>0 0 0</parameters>\r\n",
      "        </space>\r\n",
      "    </source>\r\n",
      "</settings>\r\n"
     ]
    }
   ],
   "source": [
    "settings.export_to_xml()\n",
    "!cat settings.xml"
   ]
  },
  {
   "cell_type": "markdown",
   "metadata": {},
   "source": [
    "## User-defined tallies\n",
    "\n",
    "To give a quick example of how to create tallies, we will show how one would tally the total, fission, absorption, and (n,$\\gamma$) reaction rates for $^{235}$U in the cell containing fuel."
   ]
  },
  {
   "cell_type": "code",
   "execution_count": 12,
   "metadata": {
    "collapsed": false
   },
   "outputs": [],
   "source": [
    "t = openmc.Tally(1)\n",
    "\n",
    "cell_filter = openmc.Filter(type='cell', bins=[fuel.id])\n",
    "t.filters = [cell_filter]\n",
    "\n",
    "t.nuclides = ['U-235']\n",
    "t.scores = ['total', 'fission', 'absorption', '(n,gamma)']"
   ]
  },
  {
   "cell_type": "markdown",
   "metadata": {},
   "source": [
    "Similar to the other files, we need to create a `Tallies` collection, register our tally, and then export it to XML."
   ]
  },
  {
   "cell_type": "code",
   "execution_count": 13,
   "metadata": {
    "collapsed": false
   },
   "outputs": [
    {
     "name": "stdout",
     "output_type": "stream",
     "text": [
      "<?xml version='1.0' encoding='utf-8'?>\r\n",
      "<tallies>\r\n",
      "    <tally id=\"1\">\r\n",
      "        <filter bins=\"1\" type=\"cell\" />\r\n",
      "        <nuclides>U-235</nuclides>\r\n",
      "        <scores>total fission absorption (n,gamma)</scores>\r\n",
      "    </tally>\r\n",
      "</tallies>\r\n"
     ]
    }
   ],
   "source": [
    "tallies = openmc.Tallies([t])\n",
    "tallies.export_to_xml()\n",
    "!cat tallies.xml"
   ]
  },
  {
   "cell_type": "markdown",
   "metadata": {},
   "source": [
    "## Geometry plotting\n",
    "\n",
    "To create a plot, we simply need to specify the origin and the number of pixels in each direction. By default, the plot will be a \"slice\" plot which cuts through the geometry. For our case here, we specify that we want the plot to be colored by material (rather than by cell) and we assign yellow to fuel and blue to water."
   ]
  },
  {
   "cell_type": "code",
   "execution_count": 14,
   "metadata": {
    "collapsed": true
   },
   "outputs": [],
   "source": [
    "p = openmc.Plot()\n",
    "p.width = [pitch, pitch]\n",
    "p.pixels = [400, 400]\n",
    "p.color = 'mat'\n",
    "p.col_spec = {uo2.id: (255, 255, 0), water.id: (0, 0, 255)}"
   ]
  },
  {
   "cell_type": "markdown",
   "metadata": {},
   "source": [
    "With our plot created, we need to add it to a `Plots` collection which can be exported to XML."
   ]
  },
  {
   "cell_type": "code",
   "execution_count": 15,
   "metadata": {
    "collapsed": false
   },
   "outputs": [
    {
     "name": "stdout",
     "output_type": "stream",
     "text": [
      "<?xml version='1.0' encoding='utf-8'?>\r\n",
      "<plots>\r\n",
      "    <plot basis=\"xy\" color=\"mat\" filename=\"plot\" id=\"10000\" type=\"slice\">\r\n",
      "        <origin>0.0 0.0 0.0</origin>\r\n",
      "        <width>1.25984 1.25984</width>\r\n",
      "        <pixels>400 400</pixels>\r\n",
      "        <col_spec id=\"1\" rgb=\"255 255 0\" />\r\n",
      "        <col_spec id=\"3\" rgb=\"0 0 255\" />\r\n",
      "    </plot>\r\n",
      "</plots>\r\n"
     ]
    }
   ],
   "source": [
    "plots = openmc.Plots()\n",
    "plots.append(p)\n",
    "plots.export_to_xml()\n",
    "!cat plots.xml"
   ]
  },
  {
   "cell_type": "markdown",
   "metadata": {},
   "source": [
    "Now we can run OpenMC in plotting mode by calling the `plot_geometry()` function. Under the hood this is calling `openmc --plot`."
   ]
  },
  {
   "cell_type": "code",
   "execution_count": 16,
   "metadata": {
    "collapsed": false
   },
   "outputs": [
    {
     "name": "stdout",
     "output_type": "stream",
     "text": [
      "\n",
      "       .d88888b.                             888b     d888  .d8888b.\n",
      "      d88P\" \"Y88b                            8888b   d8888 d88P  Y88b\n",
      "      888     888                            88888b.d88888 888    888\n",
      "      888     888 88888b.   .d88b.  88888b.  888Y88888P888 888       \n",
      "      888     888 888 \"88b d8P  Y8b 888 \"88b 888 Y888P 888 888       \n",
      "      888     888 888  888 88888888 888  888 888  Y8P  888 888    888\n",
      "      Y88b. .d88P 888 d88P Y8b.     888  888 888   \"   888 Y88b  d88P\n",
      "       \"Y88888P\"  88888P\"   \"Y8888  888  888 888       888  \"Y8888P\"\n",
      "__________________888______________________________________________________\n",
      "                  888\n",
      "                  888\n",
      "\n",
      "      Copyright:      2011-2016 Massachusetts Institute of Technology\n",
      "      License:        http://openmc.readthedocs.org/en/latest/license.html\n",
      "      Version:        0.7.1\n",
      "      Git SHA1:       6a2743f1e12fbc0745ff770f22df8847af859e90\n",
      "      Date/Time:      2016-05-01 04:32:35\n",
      "\n",
      " ===========================================================================\n",
      " ========================>     INITIALIZATION     <=========================\n",
      " ===========================================================================\n",
      "\n",
      " Reading settings XML file...\n",
      " Reading geometry XML file...\n",
      " Reading materials XML file...\n",
      " Reading tallies XML file...\n",
      " Reading plot XML file...\n",
      " Building neighboring cells lists for each surface...\n",
      "\n",
      " =======================>     PLOTTING SUMMARY     <========================\n",
      "\n",
      " Plot ID:               10000\n",
      " Plot file:             plot.ppm\n",
      " Universe depth:        -1\n",
      " Plot Type:             Slice\n",
      " Origin:                0.0 0.0 0.0\n",
      " Width:                 1.25984 1.25984\n",
      " Coloring:              Materials\n",
      " Basis:                 xy\n",
      " Pixels:                400 400\n",
      "\n",
      " \n",
      " WARNING: Cell overlap checking is ON\n",
      " Processing plot 10000: plot.ppm ...\n"
     ]
    },
    {
     "data": {
      "text/plain": [
       "0"
      ]
     },
     "execution_count": 16,
     "metadata": {},
     "output_type": "execute_result"
    }
   ],
   "source": [
    "openmc.plot_geometry()"
   ]
  },
  {
   "cell_type": "markdown",
   "metadata": {},
   "source": [
    "OpenMC writes out a peculiar image with a `.ppm` extension. If you have ImageMagick installed, this can be converted into a more normal `.png` file."
   ]
  },
  {
   "cell_type": "code",
   "execution_count": 17,
   "metadata": {
    "collapsed": false
   },
   "outputs": [],
   "source": [
    "!convert plot.ppm plot.png"
   ]
  },
  {
   "cell_type": "markdown",
   "metadata": {},
   "source": [
    "We can use functionality from IPython to display the image inline in our notebook:"
   ]
  },
  {
   "cell_type": "code",
   "execution_count": 18,
   "metadata": {
    "collapsed": false
   },
   "outputs": [
    {
     "data": {
      "image/png": "[encoded data removed]",
      "text/plain": [
       "<IPython.core.display.Image object>"
      ]
     },
     "execution_count": 18,
     "metadata": {},
     "output_type": "execute_result"
    }
   ],
   "source": [
    "from IPython.display import Image\n",
    "Image(\"plot.png\")"
   ]
  },
  {
   "cell_type": "markdown",
   "metadata": {},
   "source": [
    "## Running OpenMC\n",
    "\n",
    "Running OpenMC from Python can be done using the `openmc.run()` function. This function allows you to set the number of MPI processes and OpenMP threads, if need be."
   ]
  },
  {
   "cell_type": "code",
   "execution_count": 19,
   "metadata": {
    "collapsed": false
   },
   "outputs": [
    {
     "name": "stdout",
     "output_type": "stream",
     "text": [
      "\n",
      "       .d88888b.                             888b     d888  .d8888b.\n",
      "      d88P\" \"Y88b                            8888b   d8888 d88P  Y88b\n",
      "      888     888                            88888b.d88888 888    888\n",
      "      888     888 88888b.   .d88b.  88888b.  888Y88888P888 888       \n",
      "      888     888 888 \"88b d8P  Y8b 888 \"88b 888 Y888P 888 888       \n",
      "      888     888 888  888 88888888 888  888 888  Y8P  888 888    888\n",
      "      Y88b. .d88P 888 d88P Y8b.     888  888 888   \"   888 Y88b  d88P\n",
      "       \"Y88888P\"  88888P\"   \"Y8888  888  888 888       888  \"Y8888P\"\n",
      "__________________888______________________________________________________\n",
      "                  888\n",
      "                  888\n",
      "\n",
      "      Copyright:      2011-2016 Massachusetts Institute of Technology\n",
      "      License:        http://openmc.readthedocs.org/en/latest/license.html\n",
      "      Version:        0.7.1\n",
      "      Git SHA1:       6a2743f1e12fbc0745ff770f22df8847af859e90\n",
      "      Date/Time:      2016-05-01 04:32:36\n",
      "\n",
      " ===========================================================================\n",
      " ========================>     INITIALIZATION     <=========================\n",
      " ===========================================================================\n",
      "\n",
      " Reading settings XML file...\n",
      " Reading cross sections XML file...\n",
      " Reading geometry XML file...\n",
      " Reading materials XML file...\n",
      " Reading tallies XML file...\n",
      " Building neighboring cells lists for each surface...\n",
      " Loading ACE cross section table: 92235.71c\n",
      " Loading ACE cross section table: 92238.71c\n",
      " Loading ACE cross section table: 8016.71c\n",
      " Loading ACE cross section table: 40090.71c\n",
      " Loading ACE cross section table: 40091.71c\n",
      " Loading ACE cross section table: 40092.71c\n",
      " Loading ACE cross section table: 40094.71c\n",
      " Loading ACE cross section table: 40096.71c\n",
      " Loading ACE cross section table: 1001.71c\n",
      " Loading ACE cross section table: HH2O.71t\n",
      " Maximum neutron transport energy: 20.0000 MeV for 92235.71c\n",
      " Initializing source particles...\n",
      "\n",
      " ===========================================================================\n",
      " ====================>     K EIGENVALUE SIMULATION     <====================\n",
      " ===========================================================================\n",
      "\n",
      "  Bat./Gen.      k            Average k         \n",
      "  =========   ========   ====================   \n",
      "        1/1    1.34984                       \n",
      "        2/1    1.26163                       \n",
      "        3/1    1.28176                       \n",
      "        4/1    1.27488                       \n",
      "        5/1    1.30882                       \n",
      "        6/1    1.29727                       \n",
      "        7/1    1.22959                       \n",
      "        8/1    1.31488                       \n",
      "        9/1    1.27094                       \n",
      "       10/1    1.27750                       \n",
      "       11/1    1.32707                       \n",
      "       12/1    1.34991    1.33849 +/- 0.01142\n",
      "       13/1    1.23374    1.30358 +/- 0.03553\n",
      "       14/1    1.30431    1.30376 +/- 0.02513\n",
      "       15/1    1.36566    1.31614 +/- 0.02307\n",
      "       16/1    1.30954    1.31504 +/- 0.01887\n",
      "       17/1    1.30042    1.31295 +/- 0.01608\n",
      "       18/1    1.28485    1.30944 +/- 0.01436\n",
      "       19/1    1.25605    1.30351 +/- 0.01399\n",
      "       20/1    1.32902    1.30606 +/- 0.01277\n",
      "       21/1    1.26597    1.30241 +/- 0.01211\n",
      "       22/1    1.21446    1.29508 +/- 0.01326\n",
      "       23/1    1.34416    1.29886 +/- 0.01277\n",
      "       24/1    1.30054    1.29898 +/- 0.01183\n",
      "       25/1    1.25928    1.29633 +/- 0.01132\n",
      "       26/1    1.32293    1.29799 +/- 0.01072\n",
      "       27/1    1.33335    1.30007 +/- 0.01028\n",
      "       28/1    1.35380    1.30306 +/- 0.01014\n",
      "       29/1    1.29354    1.30256 +/- 0.00961\n",
      "       30/1    1.28545    1.30170 +/- 0.00916\n",
      "       31/1    1.31954    1.30255 +/- 0.00875\n",
      "       32/1    1.34654    1.30455 +/- 0.00858\n",
      "       33/1    1.29976    1.30434 +/- 0.00820\n",
      "       34/1    1.29401    1.30391 +/- 0.00786\n",
      "       35/1    1.31647    1.30441 +/- 0.00756\n",
      "       36/1    1.29429    1.30402 +/- 0.00727\n",
      "       37/1    1.31831    1.30455 +/- 0.00702\n",
      "       38/1    1.33215    1.30554 +/- 0.00683\n",
      "       39/1    1.30749    1.30561 +/- 0.00659\n",
      "       40/1    1.27482    1.30458 +/- 0.00645\n",
      "       41/1    1.31365    1.30487 +/- 0.00625\n",
      "       42/1    1.20303    1.30169 +/- 0.00684\n",
      "       43/1    1.32337    1.30235 +/- 0.00666\n",
      "       44/1    1.28449    1.30182 +/- 0.00648\n",
      "       45/1    1.28671    1.30139 +/- 0.00631\n",
      "       46/1    1.33286    1.30226 +/- 0.00619\n",
      "       47/1    1.28969    1.30192 +/- 0.00603\n",
      "       48/1    1.30980    1.30213 +/- 0.00587\n",
      "       49/1    1.29325    1.30190 +/- 0.00573\n",
      "       50/1    1.34743    1.30304 +/- 0.00570\n",
      "       51/1    1.36321    1.30451 +/- 0.00575\n",
      "       52/1    1.35706    1.30576 +/- 0.00575\n",
      "       53/1    1.40082    1.30797 +/- 0.00603\n",
      "       54/1    1.35986    1.30915 +/- 0.00601\n",
      "       55/1    1.35603    1.31019 +/- 0.00596\n",
      "       56/1    1.29330    1.30983 +/- 0.00585\n",
      "       57/1    1.34138    1.31050 +/- 0.00576\n",
      "       58/1    1.33713    1.31105 +/- 0.00566\n",
      "       59/1    1.32443    1.31132 +/- 0.00555\n",
      "       60/1    1.31200    1.31134 +/- 0.00544\n",
      "       61/1    1.36588    1.31241 +/- 0.00544\n",
      "       62/1    1.29978    1.31216 +/- 0.00534\n",
      "       63/1    1.28465    1.31165 +/- 0.00526\n",
      "       64/1    1.28158    1.31109 +/- 0.00520\n",
      "       65/1    1.32338    1.31131 +/- 0.00511\n",
      "       66/1    1.34917    1.31199 +/- 0.00506\n",
      "       67/1    1.29027    1.31161 +/- 0.00498\n",
      "       68/1    1.31192    1.31161 +/- 0.00490\n",
      "       69/1    1.26432    1.31081 +/- 0.00488\n",
      "       70/1    1.22985    1.30946 +/- 0.00498\n",
      "       71/1    1.28471    1.30906 +/- 0.00492\n",
      "       72/1    1.32582    1.30933 +/- 0.00485\n",
      "       73/1    1.31267    1.30938 +/- 0.00477\n",
      "       74/1    1.29375    1.30914 +/- 0.00470\n",
      "       75/1    1.24752    1.30819 +/- 0.00472\n",
      "       76/1    1.28740    1.30787 +/- 0.00466\n",
      "       77/1    1.24186    1.30689 +/- 0.00470\n",
      "       78/1    1.32690    1.30718 +/- 0.00464\n",
      "       79/1    1.34745    1.30776 +/- 0.00461\n",
      "       80/1    1.26728    1.30719 +/- 0.00458\n",
      "       81/1    1.38925    1.30834 +/- 0.00466\n",
      "       82/1    1.33428    1.30870 +/- 0.00461\n",
      "       83/1    1.30260    1.30862 +/- 0.00454\n",
      "       84/1    1.38306    1.30963 +/- 0.00459\n",
      "       85/1    1.32024    1.30977 +/- 0.00453\n",
      "       86/1    1.38690    1.31078 +/- 0.00459\n",
      "       87/1    1.38803    1.31178 +/- 0.00464\n",
      "       88/1    1.31399    1.31181 +/- 0.00458\n",
      "       89/1    1.30136    1.31168 +/- 0.00452\n",
      "       90/1    1.32851    1.31189 +/- 0.00447\n",
      "       91/1    1.33517    1.31218 +/- 0.00442\n",
      "       92/1    1.31624    1.31223 +/- 0.00437\n",
      "       93/1    1.24384    1.31140 +/- 0.00439\n",
      "       94/1    1.17682    1.30980 +/- 0.00463\n",
      "       95/1    1.31046    1.30981 +/- 0.00457\n",
      "       96/1    1.26867    1.30933 +/- 0.00454\n",
      "       97/1    1.33490    1.30962 +/- 0.00450\n",
      "       98/1    1.31467    1.30968 +/- 0.00445\n",
      "       99/1    1.32207    1.30982 +/- 0.00440\n",
      "      100/1    1.33321    1.31008 +/- 0.00436\n",
      " Creating state point statepoint.100.h5...\n",
      "\n",
      " ===========================================================================\n",
      " ======================>     SIMULATION FINISHED     <======================\n",
      " ===========================================================================\n",
      "\n",
      "\n",
      " =======================>     TIMING STATISTICS     <=======================\n",
      "\n",
      " Total time for initialization     =  1.0340E+00 seconds\n",
      "   Reading cross sections          =  3.5200E-01 seconds\n",
      " Total time in simulation          =  4.4922E+01 seconds\n",
      "   Time in transport only          =  4.4819E+01 seconds\n",
      "   Time in inactive batches        =  4.0780E+00 seconds\n",
      "   Time in active batches          =  4.0844E+01 seconds\n",
      "   Time synchronizing fission bank =  2.0000E-03 seconds\n",
      "     Sampling source sites         =  1.0000E-03 seconds\n",
      "     SEND/RECV source sites        =  1.0000E-03 seconds\n",
      "   Time accumulating tallies       =  1.0000E-03 seconds\n",
      " Total time for finalization       =  1.0000E-03 seconds\n",
      " Total time elapsed                =  4.5975E+01 seconds\n",
      " Calculation Rate (inactive)       =  2452.18 neutrons/second\n",
      " Calculation Rate (active)         =  2203.51 neutrons/second\n",
      "\n",
      " ============================>     RESULTS     <============================\n",
      "\n",
      " k-effective (Collision)     =  1.31040 +/-  0.00421\n",
      " k-effective (Track-length)  =  1.31008 +/-  0.00436\n",
      " k-effective (Absorption)    =  1.31520 +/-  0.00293\n",
      " Combined k-effective        =  1.31398 +/-  0.00282\n",
      " Leakage Fraction            =  0.00000 +/-  0.00000\n",
      "\n"
     ]
    },
    {
     "data": {
      "text/plain": [
       "0"
      ]
     },
     "execution_count": 19,
     "metadata": {},
     "output_type": "execute_result"
    }
   ],
   "source": [
    "openmc.run()"
   ]
  },
  {
   "cell_type": "code",
   "execution_count": 20,
   "metadata": {
    "collapsed": false
   },
   "outputs": [
    {
     "name": "stdout",
     "output_type": "stream",
     "text": [
      "\r\n",
      " ============================>     TALLY 1     <============================\r\n",
      "\r\n",
      " Cell 1\r\n",
      "   U-235.71c\r\n",
      "     Total Reaction Rate                  0.685177       +/- 2.18539E-03\r\n",
      "     Fission Rate                         0.502693       +/- 1.78520E-03\r\n",
      "     Absorption Rate                      0.606716       +/- 2.10610E-03\r\n",
      "     (n,gamma)                            0.104025       +/- 3.34505E-04\r\n"
     ]
    }
   ],
   "source": [
    "!cat tallies.out"
   ]
  }
 ],
 "metadata": {
  "kernelspec": {
   "display_name": "Python 3",
   "language": "python",
   "name": "python3"
  },
  "language_info": {
   "codemirror_mode": {
    "name": "ipython",
    "version": 3
   },
   "file_extension": ".py",
   "mimetype": "text/x-python",
   "name": "python",
   "nbconvert_exporter": "python",
   "pygments_lexer": "ipython3",
   "version": "3.5.1"
  }
 },
 "nbformat": 4,
 "nbformat_minor": 0
}
